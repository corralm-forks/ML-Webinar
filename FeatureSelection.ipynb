{
 "cells": [
  {
   "cell_type": "markdown",
   "metadata": {},
   "source": [
    "# Machine Learning with scikit-learn\n",
    "\n",
    "Sometimes the features you have available in your initial data have little predictive strength when used in the most straightforward way.  This might be true almost regardless of choice of model class and hyperparameters.  And yet it might also be true that there are synthetic features latent in the data that are highly predictive, but that have to be *engineered* (mechanically, rather than sample-wise modification) to produce powerful features.\n",
    "\n",
    "At the same time, a highly dimension model—whether of high dimension because of the initial data collection or because of creation of extra synthetic features—may lend itself less well to modeling techniques.  In these cases, it can be more computationally tractable, as well as more predictive, to work with a subset of all available features.\n",
    "\n",
    "This is the last of three lessons that can be thought of broadly as \"Feature Engineering.\" This lesson focuses on selecting the features of most relevance.  Within this lesson, we group in *scaling* which does not discard dimensions, but does help in providing them with relevant numeric properties for best use in models."
   ]
  },
  {
   "cell_type": "code",
   "execution_count": 1,
   "metadata": {
    "execution": {
     "iopub.execute_input": "2020-07-20T18:32:54.647178Z",
     "iopub.status.busy": "2020-07-20T18:32:54.646857Z",
     "iopub.status.idle": "2020-07-20T18:32:56.523715Z",
     "shell.execute_reply": "2020-07-20T18:32:56.522850Z",
     "shell.execute_reply.started": "2020-07-20T18:32:54.647143Z"
    }
   },
   "outputs": [],
   "source": [
    "%matplotlib inline\n",
    "from src.setup import *"
   ]
  },
  {
   "cell_type": "markdown",
   "metadata": {},
   "source": [
    "## Scaling\n",
    "\n",
    "We have seen at several places the passing use of scaling to make data better regularized to allow models to perform best.  Scikit-learn provides several scaler classes that follow a similar API as models and other feature transformations.  Using these is mostly a simple drop-in step.\n",
    "\n",
    "To make examples simple, we generate a small amount of random data with values of \"features\" in somewhat different ranges and distributions."
   ]
  },
  {
   "cell_type": "code",
   "execution_count": 2,
   "metadata": {
    "execution": {
     "iopub.execute_input": "2020-07-20T18:33:12.090822Z",
     "iopub.status.busy": "2020-07-20T18:33:12.090461Z",
     "iopub.status.idle": "2020-07-20T18:33:12.113957Z",
     "shell.execute_reply": "2020-07-20T18:33:12.110122Z",
     "shell.execute_reply.started": "2020-07-20T18:33:12.090782Z"
    }
   },
   "outputs": [
    {
     "name": "stdout",
     "output_type": "stream",
     "text": [
      "[[ 1.58437304  1.01994225  0.3         6.91615463]\n",
      " [ 1.82627482 -0.44717258  2.          7.07208426]\n",
      " [ 3.15131885  0.61961753 -2.9        11.7211849 ]\n",
      " [ 2.62916757 -0.27028319 -2.7        12.01834292]\n",
      " [ 3.12990125 -2.53055899 -0.6         7.1122769 ]]\n"
     ]
    }
   ],
   "source": [
    "rows = 100\n",
    "test_data = np.empty((rows,4))\n",
    "test_data[:,0] = np.random.random(rows) * 2 + 1.5 \n",
    "test_data[:,1] = np.random.randn(rows)\n",
    "test_data[:,2] = np.random.randint(-50, 25, rows)/10\n",
    "test_data[:,3] = np.exp(np.random.random(rows)+1.5)\n",
    "print(test_data[:5])"
   ]
  },
  {
   "cell_type": "code",
   "execution_count": 3,
   "metadata": {
    "execution": {
     "iopub.execute_input": "2020-07-20T18:33:17.993999Z",
     "iopub.status.busy": "2020-07-20T18:33:17.993420Z",
     "iopub.status.idle": "2020-07-20T18:33:18.102794Z",
     "shell.execute_reply": "2020-07-20T18:33:18.098086Z",
     "shell.execute_reply.started": "2020-07-20T18:33:17.993861Z"
    }
   },
   "outputs": [
    {
     "data": {
      "text/html": [
       "<div>\n",
       "<style scoped>\n",
       "    .dataframe tbody tr th:only-of-type {\n",
       "        vertical-align: middle;\n",
       "    }\n",
       "\n",
       "    .dataframe tbody tr th {\n",
       "        vertical-align: top;\n",
       "    }\n",
       "\n",
       "    .dataframe thead th {\n",
       "        text-align: right;\n",
       "    }\n",
       "</style>\n",
       "<table border=\"1\" class=\"dataframe\">\n",
       "  <thead>\n",
       "    <tr style=\"text-align: right;\">\n",
       "      <th></th>\n",
       "      <th>0</th>\n",
       "      <th>1</th>\n",
       "      <th>2</th>\n",
       "      <th>3</th>\n",
       "    </tr>\n",
       "  </thead>\n",
       "  <tbody>\n",
       "    <tr>\n",
       "      <th>count</th>\n",
       "      <td>100.000000</td>\n",
       "      <td>100.000000</td>\n",
       "      <td>100.000000</td>\n",
       "      <td>100.000000</td>\n",
       "    </tr>\n",
       "    <tr>\n",
       "      <th>mean</th>\n",
       "      <td>2.478620</td>\n",
       "      <td>-0.065866</td>\n",
       "      <td>-1.183000</td>\n",
       "      <td>7.665448</td>\n",
       "    </tr>\n",
       "    <tr>\n",
       "      <th>std</th>\n",
       "      <td>0.578376</td>\n",
       "      <td>0.892955</td>\n",
       "      <td>2.237154</td>\n",
       "      <td>2.325089</td>\n",
       "    </tr>\n",
       "  </tbody>\n",
       "</table>\n",
       "</div>"
      ],
      "text/plain": [
       "                0           1           2           3\n",
       "count  100.000000  100.000000  100.000000  100.000000\n",
       "mean     2.478620   -0.065866   -1.183000    7.665448\n",
       "std      0.578376    0.892955    2.237154    2.325089"
      ]
     },
     "execution_count": 3,
     "metadata": {},
     "output_type": "execute_result"
    }
   ],
   "source": [
    "pd.DataFrame(test_data).describe().head(3)"
   ]
  },
  {
   "cell_type": "code",
   "execution_count": 4,
   "metadata": {
    "execution": {
     "iopub.execute_input": "2020-07-20T18:33:18.564039Z",
     "iopub.status.busy": "2020-07-20T18:33:18.563543Z",
     "iopub.status.idle": "2020-07-20T18:33:18.993846Z",
     "shell.execute_reply": "2020-07-20T18:33:18.992559Z",
     "shell.execute_reply.started": "2020-07-20T18:33:18.563968Z"
    }
   },
   "outputs": [
    {
     "data": {
      "image/png": "[encoded data removed]",
      "text/plain": [
       "<Figure size 432x288 with 1 Axes>"
      ]
     },
     "metadata": {
      "needs_background": "light"
     },
     "output_type": "display_data"
    }
   ],
   "source": [
    "pd.DataFrame(test_data).plot(kind='kde');"
   ]
  },
  {
   "cell_type": "code",
   "execution_count": 5,
   "metadata": {
    "execution": {
     "iopub.execute_input": "2020-07-20T18:33:20.478168Z",
     "iopub.status.busy": "2020-07-20T18:33:20.477508Z",
     "iopub.status.idle": "2020-07-20T18:33:24.971627Z",
     "shell.execute_reply": "2020-07-20T18:33:24.970190Z",
     "shell.execute_reply.started": "2020-07-20T18:33:20.478100Z"
    }
   },
   "outputs": [
    {
     "data": {
      "image/png": "[encoded data removed]",
      "text/plain": [
       "<Figure size 432x288 with 1 Axes>"
      ]
     },
     "metadata": {
      "needs_background": "light"
     },
     "output_type": "display_data"
    }
   ],
   "source": [
    "pd.DataFrame(test_data).plot(kind='hist', bins=300);"
   ]
  },
  {
   "cell_type": "markdown",
   "metadata": {},
   "source": [
    "### StandardScaler\n",
    "\n",
    "The most commonly used scaler—as the name indicates—is `StandardScaler`. \n",
    "\n",
    "This standardizes features by removing the mean and scaling to unit variance.  It loosely assumes that the underlying data is Gaussian to start with, but mostly it is fairly robust against moderate violations of that distribution.  Calculating the mean and standard deviation is per-column (as for all scalers)."
   ]
  },
  {
   "cell_type": "code",
   "execution_count": 6,
   "metadata": {
    "execution": {
     "iopub.execute_input": "2020-07-20T18:34:47.361541Z",
     "iopub.status.busy": "2020-07-20T18:34:47.361048Z",
     "iopub.status.idle": "2020-07-20T18:34:47.380214Z",
     "shell.execute_reply": "2020-07-20T18:34:47.378791Z",
     "shell.execute_reply.started": "2020-07-20T18:34:47.361466Z"
    }
   },
   "outputs": [
    {
     "data": {
      "text/plain": [
       "array([[-1.55392407,  1.22209773,  0.66623525, -0.32388783],\n",
       "       [-1.13357364, -0.42916845,  1.42995738, -0.25648603],\n",
       "       [ 1.16894281,  0.7715245 , -0.77135935,  1.75312406],\n",
       "       [ 0.26160548, -0.230076  , -0.68150969,  1.88157294],\n",
       "       [ 1.13172565, -2.77406022,  0.26191177, -0.23911244]])"
      ]
     },
     "execution_count": 6,
     "metadata": {},
     "output_type": "execute_result"
    }
   ],
   "source": [
    "from sklearn.preprocessing import StandardScaler\n",
    "scaled1 = StandardScaler().fit_transform(test_data)\n",
    "scaled1[:5]"
   ]
  },
  {
   "cell_type": "code",
   "execution_count": 7,
   "metadata": {
    "execution": {
     "iopub.execute_input": "2020-07-20T18:34:48.138026Z",
     "iopub.status.busy": "2020-07-20T18:34:48.137690Z",
     "iopub.status.idle": "2020-07-20T18:34:48.225277Z",
     "shell.execute_reply": "2020-07-20T18:34:48.220728Z",
     "shell.execute_reply.started": "2020-07-20T18:34:48.137991Z"
    }
   },
   "outputs": [
    {
     "data": {
      "text/html": [
       "<div>\n",
       "<style scoped>\n",
       "    .dataframe tbody tr th:only-of-type {\n",
       "        vertical-align: middle;\n",
       "    }\n",
       "\n",
       "    .dataframe tbody tr th {\n",
       "        vertical-align: top;\n",
       "    }\n",
       "\n",
       "    .dataframe thead th {\n",
       "        text-align: right;\n",
       "    }\n",
       "</style>\n",
       "<table border=\"1\" class=\"dataframe\">\n",
       "  <thead>\n",
       "    <tr style=\"text-align: right;\">\n",
       "      <th></th>\n",
       "      <th>0</th>\n",
       "      <th>1</th>\n",
       "      <th>2</th>\n",
       "      <th>3</th>\n",
       "    </tr>\n",
       "  </thead>\n",
       "  <tbody>\n",
       "    <tr>\n",
       "      <th>count</th>\n",
       "      <td>1.000000e+02</td>\n",
       "      <td>1.000000e+02</td>\n",
       "      <td>1.000000e+02</td>\n",
       "      <td>1.000000e+02</td>\n",
       "    </tr>\n",
       "    <tr>\n",
       "      <th>mean</th>\n",
       "      <td>-2.353673e-16</td>\n",
       "      <td>-4.912737e-17</td>\n",
       "      <td>1.387779e-17</td>\n",
       "      <td>-1.127987e-15</td>\n",
       "    </tr>\n",
       "    <tr>\n",
       "      <th>std</th>\n",
       "      <td>1.005038e+00</td>\n",
       "      <td>1.005038e+00</td>\n",
       "      <td>1.005038e+00</td>\n",
       "      <td>1.005038e+00</td>\n",
       "    </tr>\n",
       "  </tbody>\n",
       "</table>\n",
       "</div>"
      ],
      "text/plain": [
       "                  0             1             2             3\n",
       "count  1.000000e+02  1.000000e+02  1.000000e+02  1.000000e+02\n",
       "mean  -2.353673e-16 -4.912737e-17  1.387779e-17 -1.127987e-15\n",
       "std    1.005038e+00  1.005038e+00  1.005038e+00  1.005038e+00"
      ]
     },
     "execution_count": 7,
     "metadata": {},
     "output_type": "execute_result"
    }
   ],
   "source": [
    "pd.DataFrame(scaled1).describe().head(3)"
   ]
  },
  {
   "cell_type": "code",
   "execution_count": 8,
   "metadata": {
    "execution": {
     "iopub.execute_input": "2020-07-20T18:34:48.970159Z",
     "iopub.status.busy": "2020-07-20T18:34:48.969190Z",
     "iopub.status.idle": "2020-07-20T18:34:49.705502Z",
     "shell.execute_reply": "2020-07-20T18:34:49.703977Z",
     "shell.execute_reply.started": "2020-07-20T18:34:48.970069Z"
    }
   },
   "outputs": [
    {
     "data": {
      "image/png": "[encoded data removed]",
      "text/plain": [
       "<Figure size 432x288 with 1 Axes>"
      ]
     },
     "metadata": {
      "needs_background": "light"
     },
     "output_type": "display_data"
    }
   ],
   "source": [
    "pd.DataFrame(scaled1).plot(kind='kde');"
   ]
  },
  {
   "cell_type": "code",
   "execution_count": 9,
   "metadata": {
    "execution": {
     "iopub.execute_input": "2020-07-20T18:34:50.385240Z",
     "iopub.status.busy": "2020-07-20T18:34:50.384482Z",
     "iopub.status.idle": "2020-07-20T18:34:54.592988Z",
     "shell.execute_reply": "2020-07-20T18:34:54.591902Z",
     "shell.execute_reply.started": "2020-07-20T18:34:50.385176Z"
    }
   },
   "outputs": [
    {
     "data": {
      "image/png": "[encoded data removed]",
      "text/plain": [
       "<Figure size 432x288 with 1 Axes>"
      ]
     },
     "metadata": {
      "needs_background": "light"
     },
     "output_type": "display_data"
    }
   ],
   "source": [
    "pd.DataFrame(scaled1).plot(kind='hist', bins=300);"
   ]
  },
  {
   "cell_type": "markdown",
   "metadata": {},
   "source": [
    "### RobustScaler\n",
    "\n",
    "This scales features using statistics that are robust to outliers. It removes the median and scales the data according to the quantile range (defaults to IQR: Interquartile Range). The IQR is the range between the 1st quartile (25th quantile) and the 3rd quartile (75th quantile)."
   ]
  },
  {
   "cell_type": "code",
   "execution_count": 10,
   "metadata": {
    "execution": {
     "iopub.execute_input": "2020-07-20T18:35:30.933228Z",
     "iopub.status.busy": "2020-07-20T18:35:30.932914Z",
     "iopub.status.idle": "2020-07-20T18:35:30.956641Z",
     "shell.execute_reply": "2020-07-20T18:35:30.954249Z",
     "shell.execute_reply.started": "2020-07-20T18:35:30.933195Z"
    }
   },
   "outputs": [
    {
     "data": {
      "text/plain": [
       "array([[-0.86534898,  1.03129998,  0.29299363, -0.05525033],\n",
       "       [-0.63031131, -0.32027773,  0.72611465, -0.01632959],\n",
       "       [ 0.65713377,  0.66250133, -0.52229299,  1.14410694],\n",
       "       [ 0.14979885, -0.1573186 , -0.47133758,  1.21827892],\n",
       "       [ 0.63632391, -2.23959488,  0.06369427, -0.00629733]])"
      ]
     },
     "execution_count": 10,
     "metadata": {},
     "output_type": "execute_result"
    }
   ],
   "source": [
    "from sklearn.preprocessing import RobustScaler\n",
    "scaled2 = RobustScaler().fit_transform(test_data)\n",
    "scaled2[:5]"
   ]
  },
  {
   "cell_type": "code",
   "execution_count": 11,
   "metadata": {
    "execution": {
     "iopub.execute_input": "2020-07-20T18:35:31.381709Z",
     "iopub.status.busy": "2020-07-20T18:35:31.380895Z",
     "iopub.status.idle": "2020-07-20T18:35:31.441482Z",
     "shell.execute_reply": "2020-07-20T18:35:31.431688Z",
     "shell.execute_reply.started": "2020-07-20T18:35:31.381611Z"
    }
   },
   "outputs": [
    {
     "data": {
      "text/html": [
       "<div>\n",
       "<style scoped>\n",
       "    .dataframe tbody tr th:only-of-type {\n",
       "        vertical-align: middle;\n",
       "    }\n",
       "\n",
       "    .dataframe tbody tr th {\n",
       "        vertical-align: top;\n",
       "    }\n",
       "\n",
       "    .dataframe thead th {\n",
       "        text-align: right;\n",
       "    }\n",
       "</style>\n",
       "<table border=\"1\" class=\"dataframe\">\n",
       "  <thead>\n",
       "    <tr style=\"text-align: right;\">\n",
       "      <th></th>\n",
       "      <th>0</th>\n",
       "      <th>1</th>\n",
       "      <th>2</th>\n",
       "      <th>3</th>\n",
       "    </tr>\n",
       "  </thead>\n",
       "  <tbody>\n",
       "    <tr>\n",
       "      <th>count</th>\n",
       "      <td>100.000000</td>\n",
       "      <td>100.000000</td>\n",
       "      <td>100.000000</td>\n",
       "      <td>100.000000</td>\n",
       "    </tr>\n",
       "    <tr>\n",
       "      <th>mean</th>\n",
       "      <td>0.003523</td>\n",
       "      <td>0.031001</td>\n",
       "      <td>-0.084841</td>\n",
       "      <td>0.131777</td>\n",
       "    </tr>\n",
       "    <tr>\n",
       "      <th>std</th>\n",
       "      <td>0.561964</td>\n",
       "      <td>0.822633</td>\n",
       "      <td>0.569976</td>\n",
       "      <td>0.580353</td>\n",
       "    </tr>\n",
       "  </tbody>\n",
       "</table>\n",
       "</div>"
      ],
      "text/plain": [
       "                0           1           2           3\n",
       "count  100.000000  100.000000  100.000000  100.000000\n",
       "mean     0.003523    0.031001   -0.084841    0.131777\n",
       "std      0.561964    0.822633    0.569976    0.580353"
      ]
     },
     "execution_count": 11,
     "metadata": {},
     "output_type": "execute_result"
    }
   ],
   "source": [
    "pd.DataFrame(scaled2).describe().head(3)"
   ]
  },
  {
   "cell_type": "code",
   "execution_count": 12,
   "metadata": {
    "execution": {
     "iopub.execute_input": "2020-07-20T18:35:31.868823Z",
     "iopub.status.busy": "2020-07-20T18:35:31.867103Z",
     "iopub.status.idle": "2020-07-20T18:35:32.382758Z",
     "shell.execute_reply": "2020-07-20T18:35:32.381587Z",
     "shell.execute_reply.started": "2020-07-20T18:35:31.868729Z"
    }
   },
   "outputs": [
    {
     "data": {
      "image/png": "[encoded data removed]",
      "text/plain": [
       "<Figure size 432x288 with 1 Axes>"
      ]
     },
     "metadata": {
      "needs_background": "light"
     },
     "output_type": "display_data"
    }
   ],
   "source": [
    "pd.DataFrame(scaled2).plot(kind='kde');"
   ]
  },
  {
   "cell_type": "code",
   "execution_count": 13,
   "metadata": {
    "execution": {
     "iopub.execute_input": "2020-07-20T18:35:32.391611Z",
     "iopub.status.busy": "2020-07-20T18:35:32.390954Z",
     "iopub.status.idle": "2020-07-20T18:35:36.953550Z",
     "shell.execute_reply": "2020-07-20T18:35:36.948769Z",
     "shell.execute_reply.started": "2020-07-20T18:35:32.391553Z"
    }
   },
   "outputs": [
    {
     "data": {
      "image/png": "[encoded data removed]",
      "text/plain": [
       "<Figure size 432x288 with 1 Axes>"
      ]
     },
     "metadata": {
      "needs_background": "light"
     },
     "output_type": "display_data"
    }
   ],
   "source": [
    "pd.DataFrame(scaled2).plot(kind='hist', bins=300);"
   ]
  },
  {
   "cell_type": "markdown",
   "metadata": {},
   "source": [
    "### MinMaxScaler\n",
    "\n",
    "Transforms features by scaling each feature to a given range. This estimator scales and translates each feature individually such that it is in the given range on the training set, by default between zero and one."
   ]
  },
  {
   "cell_type": "code",
   "execution_count": 14,
   "metadata": {
    "execution": {
     "iopub.execute_input": "2020-07-20T18:35:36.956244Z",
     "iopub.status.busy": "2020-07-20T18:35:36.955553Z",
     "iopub.status.idle": "2020-07-20T18:35:36.977312Z",
     "shell.execute_reply": "2020-07-20T18:35:36.976434Z",
     "shell.execute_reply.started": "2020-07-20T18:35:36.956178Z"
    }
   },
   "outputs": [
    {
     "data": {
      "text/plain": [
       "array([[0.04231613, 0.81639773, 0.71621622, 0.31562066],\n",
       "       [0.16459742, 0.47905121, 0.94594595, 0.33612575],\n",
       "       [0.83440681, 0.72434757, 0.28378378, 0.94749286],\n",
       "       [0.57045948, 0.51972494, 0.31081081, 0.9865698 ],\n",
       "       [0.82358022, 0.        , 0.59459459, 0.34141117]])"
      ]
     },
     "execution_count": 14,
     "metadata": {},
     "output_type": "execute_result"
    }
   ],
   "source": [
    "from sklearn.preprocessing import MinMaxScaler\n",
    "scaled3 = MinMaxScaler().fit_transform(test_data)\n",
    "scaled3[:5]"
   ]
  },
  {
   "cell_type": "code",
   "execution_count": 15,
   "metadata": {
    "execution": {
     "iopub.execute_input": "2020-07-20T18:35:36.988342Z",
     "iopub.status.busy": "2020-07-20T18:35:36.986944Z",
     "iopub.status.idle": "2020-07-20T18:35:37.104365Z",
     "shell.execute_reply": "2020-07-20T18:35:37.098148Z",
     "shell.execute_reply.started": "2020-07-20T18:35:36.988265Z"
    }
   },
   "outputs": [
    {
     "data": {
      "text/html": [
       "<div>\n",
       "<style scoped>\n",
       "    .dataframe tbody tr th:only-of-type {\n",
       "        vertical-align: middle;\n",
       "    }\n",
       "\n",
       "    .dataframe tbody tr th {\n",
       "        vertical-align: top;\n",
       "    }\n",
       "\n",
       "    .dataframe thead th {\n",
       "        text-align: right;\n",
       "    }\n",
       "</style>\n",
       "<table border=\"1\" class=\"dataframe\">\n",
       "  <thead>\n",
       "    <tr style=\"text-align: right;\">\n",
       "      <th></th>\n",
       "      <th>0</th>\n",
       "      <th>1</th>\n",
       "      <th>2</th>\n",
       "      <th>3</th>\n",
       "    </tr>\n",
       "  </thead>\n",
       "  <tbody>\n",
       "    <tr>\n",
       "      <th>count</th>\n",
       "      <td>100.000000</td>\n",
       "      <td>100.000000</td>\n",
       "      <td>100.000000</td>\n",
       "      <td>100.000000</td>\n",
       "    </tr>\n",
       "    <tr>\n",
       "      <th>mean</th>\n",
       "      <td>0.494358</td>\n",
       "      <td>0.566728</td>\n",
       "      <td>0.515811</td>\n",
       "      <td>0.414154</td>\n",
       "    </tr>\n",
       "    <tr>\n",
       "      <th>std</th>\n",
       "      <td>0.292369</td>\n",
       "      <td>0.205325</td>\n",
       "      <td>0.302318</td>\n",
       "      <td>0.305754</td>\n",
       "    </tr>\n",
       "    <tr>\n",
       "      <th>min</th>\n",
       "      <td>0.000000</td>\n",
       "      <td>0.000000</td>\n",
       "      <td>0.000000</td>\n",
       "      <td>0.000000</td>\n",
       "    </tr>\n",
       "    <tr>\n",
       "      <th>25%</th>\n",
       "      <td>0.238324</td>\n",
       "      <td>0.451325</td>\n",
       "      <td>0.243243</td>\n",
       "      <td>0.146056</td>\n",
       "    </tr>\n",
       "    <tr>\n",
       "      <th>50%</th>\n",
       "      <td>0.492525</td>\n",
       "      <td>0.558991</td>\n",
       "      <td>0.560811</td>\n",
       "      <td>0.344729</td>\n",
       "    </tr>\n",
       "    <tr>\n",
       "      <th>75%</th>\n",
       "      <td>0.758586</td>\n",
       "      <td>0.700919</td>\n",
       "      <td>0.773649</td>\n",
       "      <td>0.672899</td>\n",
       "    </tr>\n",
       "    <tr>\n",
       "      <th>max</th>\n",
       "      <td>1.000000</td>\n",
       "      <td>1.000000</td>\n",
       "      <td>1.000000</td>\n",
       "      <td>1.000000</td>\n",
       "    </tr>\n",
       "  </tbody>\n",
       "</table>\n",
       "</div>"
      ],
      "text/plain": [
       "                0           1           2           3\n",
       "count  100.000000  100.000000  100.000000  100.000000\n",
       "mean     0.494358    0.566728    0.515811    0.414154\n",
       "std      0.292369    0.205325    0.302318    0.305754\n",
       "min      0.000000    0.000000    0.000000    0.000000\n",
       "25%      0.238324    0.451325    0.243243    0.146056\n",
       "50%      0.492525    0.558991    0.560811    0.344729\n",
       "75%      0.758586    0.700919    0.773649    0.672899\n",
       "max      1.000000    1.000000    1.000000    1.000000"
      ]
     },
     "execution_count": 15,
     "metadata": {},
     "output_type": "execute_result"
    }
   ],
   "source": [
    "pd.DataFrame(scaled3).describe()"
   ]
  },
  {
   "cell_type": "code",
   "execution_count": 16,
   "metadata": {
    "execution": {
     "iopub.execute_input": "2020-07-20T18:35:37.117724Z",
     "iopub.status.busy": "2020-07-20T18:35:37.115779Z",
     "iopub.status.idle": "2020-07-20T18:35:37.702882Z",
     "shell.execute_reply": "2020-07-20T18:35:37.699109Z",
     "shell.execute_reply.started": "2020-07-20T18:35:37.117614Z"
    }
   },
   "outputs": [
    {
     "data": {
      "image/png": "[encoded data removed]",
      "text/plain": [
       "<Figure size 432x288 with 1 Axes>"
      ]
     },
     "metadata": {
      "needs_background": "light"
     },
     "output_type": "display_data"
    }
   ],
   "source": [
    "pd.DataFrame(scaled3).plot(kind='kde');"
   ]
  },
  {
   "cell_type": "code",
   "execution_count": 17,
   "metadata": {
    "execution": {
     "iopub.execute_input": "2020-07-20T18:35:37.713350Z",
     "iopub.status.busy": "2020-07-20T18:35:37.712769Z",
     "iopub.status.idle": "2020-07-20T18:35:42.434217Z",
     "shell.execute_reply": "2020-07-20T18:35:42.432881Z",
     "shell.execute_reply.started": "2020-07-20T18:35:37.713264Z"
    }
   },
   "outputs": [
    {
     "data": {
      "image/png": "[encoded data removed]",
      "text/plain": [
       "<Figure size 432x288 with 1 Axes>"
      ]
     },
     "metadata": {
      "needs_background": "light"
     },
     "output_type": "display_data"
    }
   ],
   "source": [
    "pd.DataFrame(scaled3).plot(kind='hist', bins=300);"
   ]
  },
  {
   "cell_type": "markdown",
   "metadata": {},
   "source": [
    "### MaxAbsScaler\n",
    "\n",
    "Scales each feature by its maximum absolute value.  This estimator scales and translates each feature individually such that the maximal absolute value of each feature in the training set will be 1.0. It does not shift/center the data, and thus does not destroy any sparsity."
   ]
  },
  {
   "cell_type": "code",
   "execution_count": 18,
   "metadata": {
    "execution": {
     "iopub.execute_input": "2020-07-20T18:36:08.788035Z",
     "iopub.status.busy": "2020-07-20T18:36:08.787726Z",
     "iopub.status.idle": "2020-07-20T18:36:08.800630Z",
     "shell.execute_reply": "2020-07-20T18:36:08.799312Z",
     "shell.execute_reply.started": "2020-07-20T18:36:08.788002Z"
    }
   },
   "outputs": [
    {
     "data": {
      "text/plain": [
       "array([[ 0.45542331,  0.40305018,  0.06      ,  0.5706176 ],\n",
       "       [ 0.52495725, -0.17670901,  0.4       ,  0.58348258],\n",
       "       [ 0.90583721,  0.24485401, -0.58      ,  0.96705681],\n",
       "       [ 0.75574638, -0.1068077 , -0.54      ,  0.99157384],\n",
       "       [ 0.89968078, -1.        , -0.12      ,  0.58679868]])"
      ]
     },
     "execution_count": 18,
     "metadata": {},
     "output_type": "execute_result"
    }
   ],
   "source": [
    "from sklearn.preprocessing import MaxAbsScaler\n",
    "scaled4 = MaxAbsScaler().fit_transform(test_data)\n",
    "scaled4[:5]"
   ]
  },
  {
   "cell_type": "code",
   "execution_count": 19,
   "metadata": {
    "execution": {
     "iopub.execute_input": "2020-07-20T18:36:09.397981Z",
     "iopub.status.busy": "2020-07-20T18:36:09.397296Z",
     "iopub.status.idle": "2020-07-20T18:36:09.490871Z",
     "shell.execute_reply": "2020-07-20T18:36:09.489981Z",
     "shell.execute_reply.started": "2020-07-20T18:36:09.397904Z"
    }
   },
   "outputs": [
    {
     "data": {
      "text/html": [
       "<div>\n",
       "<style scoped>\n",
       "    .dataframe tbody tr th:only-of-type {\n",
       "        vertical-align: middle;\n",
       "    }\n",
       "\n",
       "    .dataframe tbody tr th {\n",
       "        vertical-align: top;\n",
       "    }\n",
       "\n",
       "    .dataframe thead th {\n",
       "        text-align: right;\n",
       "    }\n",
       "</style>\n",
       "<table border=\"1\" class=\"dataframe\">\n",
       "  <thead>\n",
       "    <tr style=\"text-align: right;\">\n",
       "      <th></th>\n",
       "      <th>0</th>\n",
       "      <th>1</th>\n",
       "      <th>2</th>\n",
       "      <th>3</th>\n",
       "    </tr>\n",
       "  </thead>\n",
       "  <tbody>\n",
       "    <tr>\n",
       "      <th>count</th>\n",
       "      <td>100.000000</td>\n",
       "      <td>100.000000</td>\n",
       "      <td>100.000000</td>\n",
       "      <td>100.000000</td>\n",
       "    </tr>\n",
       "    <tr>\n",
       "      <th>mean</th>\n",
       "      <td>0.712472</td>\n",
       "      <td>-0.026028</td>\n",
       "      <td>-0.236600</td>\n",
       "      <td>0.632438</td>\n",
       "    </tr>\n",
       "    <tr>\n",
       "      <th>std</th>\n",
       "      <td>0.166252</td>\n",
       "      <td>0.352869</td>\n",
       "      <td>0.447431</td>\n",
       "      <td>0.191832</td>\n",
       "    </tr>\n",
       "    <tr>\n",
       "      <th>min</th>\n",
       "      <td>0.431361</td>\n",
       "      <td>-1.000000</td>\n",
       "      <td>-1.000000</td>\n",
       "      <td>0.372596</td>\n",
       "    </tr>\n",
       "    <tr>\n",
       "      <th>25%</th>\n",
       "      <td>0.566881</td>\n",
       "      <td>-0.224359</td>\n",
       "      <td>-0.640000</td>\n",
       "      <td>0.464232</td>\n",
       "    </tr>\n",
       "    <tr>\n",
       "      <th>50%</th>\n",
       "      <td>0.711430</td>\n",
       "      <td>-0.039326</td>\n",
       "      <td>-0.170000</td>\n",
       "      <td>0.588880</td>\n",
       "    </tr>\n",
       "    <tr>\n",
       "      <th>75%</th>\n",
       "      <td>0.862723</td>\n",
       "      <td>0.204591</td>\n",
       "      <td>0.145000</td>\n",
       "      <td>0.794775</td>\n",
       "    </tr>\n",
       "    <tr>\n",
       "      <th>max</th>\n",
       "      <td>1.000000</td>\n",
       "      <td>0.718587</td>\n",
       "      <td>0.480000</td>\n",
       "      <td>1.000000</td>\n",
       "    </tr>\n",
       "  </tbody>\n",
       "</table>\n",
       "</div>"
      ],
      "text/plain": [
       "                0           1           2           3\n",
       "count  100.000000  100.000000  100.000000  100.000000\n",
       "mean     0.712472   -0.026028   -0.236600    0.632438\n",
       "std      0.166252    0.352869    0.447431    0.191832\n",
       "min      0.431361   -1.000000   -1.000000    0.372596\n",
       "25%      0.566881   -0.224359   -0.640000    0.464232\n",
       "50%      0.711430   -0.039326   -0.170000    0.588880\n",
       "75%      0.862723    0.204591    0.145000    0.794775\n",
       "max      1.000000    0.718587    0.480000    1.000000"
      ]
     },
     "execution_count": 19,
     "metadata": {},
     "output_type": "execute_result"
    }
   ],
   "source": [
    "pd.DataFrame(scaled4).describe()"
   ]
  },
  {
   "cell_type": "code",
   "execution_count": 20,
   "metadata": {
    "execution": {
     "iopub.execute_input": "2020-07-20T18:36:10.010236Z",
     "iopub.status.busy": "2020-07-20T18:36:10.009789Z",
     "iopub.status.idle": "2020-07-20T18:36:10.543932Z",
     "shell.execute_reply": "2020-07-20T18:36:10.498551Z",
     "shell.execute_reply.started": "2020-07-20T18:36:10.010164Z"
    }
   },
   "outputs": [
    {
     "data": {
      "image/png": "[encoded data removed]",
      "text/plain": [
       "<Figure size 432x288 with 1 Axes>"
      ]
     },
     "metadata": {
      "needs_background": "light"
     },
     "output_type": "display_data"
    }
   ],
   "source": [
    "pd.DataFrame(scaled4).plot(kind='kde');"
   ]
  },
  {
   "cell_type": "code",
   "execution_count": 21,
   "metadata": {
    "execution": {
     "iopub.execute_input": "2020-07-20T18:36:10.982781Z",
     "iopub.status.busy": "2020-07-20T18:36:10.979184Z",
     "iopub.status.idle": "2020-07-20T18:36:15.170030Z",
     "shell.execute_reply": "2020-07-20T18:36:15.168562Z",
     "shell.execute_reply.started": "2020-07-20T18:36:10.982679Z"
    }
   },
   "outputs": [
    {
     "data": {
      "image/png": "[encoded data removed]",
      "text/plain": [
       "<Figure size 432x288 with 1 Axes>"
      ]
     },
     "metadata": {
      "needs_background": "light"
     },
     "output_type": "display_data"
    }
   ],
   "source": [
    "pd.DataFrame(scaled4).plot(kind='hist', bins=300);"
   ]
  },
  {
   "cell_type": "markdown",
   "metadata": {},
   "source": [
    "### ...and others\n",
    "\n",
    "A number of other scalers exists for special purposes.  An interesting one is `QuantileTransformer` that normalizes feature values by quantile (default `n_quantiles=1000`).  In effect this treats values in an ordinal way, eliminating any effect of outliers.  Output distributions other than the default `'uniform'` can be selected as well."
   ]
  },
  {
   "cell_type": "markdown",
   "metadata": {},
   "source": [
    "## Feature Selection\n",
    "\n",
    "One way to reduce features in a dataset is to throw some of them away.  In principle, features thrown away can be engineered features such as those resulting from decompositions or those discussed below that are combined or synthesized from raw features.  Scikit-learn gives you several ways to choose features to discard; or euqivalently, features to keep.\n",
    "\n",
    "There are several univariate feature selectors in scikit-learn.  `SelectKBest` is essentially the same as `SelectPercentile`, merely different in whether you indicate a number of percentage of features to keep.  Obviously, it is easy to derive one from the other based on number of features in the raw data. Just slightly different are false positive rate (`SelectFpr`), false discovery rate (`SelectFdr`), or family wise error (`SelectFwe`).  \n",
    "\n",
    "All of these let you specify a scoring function the judges the quality of the estimate using just one feature.  For regression, there are `f_regression`, `mutual_info_regression`; for classification: `chi2`, `f_classif`, `mutual_info_classif`.  You can also, in principle, use a custom function to evaluate strength of a single feature for prediction."
   ]
  },
  {
   "cell_type": "code",
   "execution_count": 22,
   "metadata": {
    "execution": {
     "iopub.execute_input": "2020-07-20T18:40:08.665234Z",
     "iopub.status.busy": "2020-07-20T18:40:08.664568Z",
     "iopub.status.idle": "2020-07-20T18:40:08.712522Z",
     "shell.execute_reply": "2020-07-20T18:40:08.710778Z",
     "shell.execute_reply.started": "2020-07-20T18:40:08.665168Z"
    }
   },
   "outputs": [],
   "source": [
    "cancer = load_breast_cancer()"
   ]
  },
  {
   "cell_type": "markdown",
   "metadata": {},
   "source": [
    "### Univariate\n",
    "\n",
    "Let us look at the Wisconsin cancer dataset from perspective of simply identifying the most important features (in the raw dataset).  Notice that we use the entire dataset for this purpose, not only a training portion of it.\n",
    "\n",
    "Notes: \n",
    "* Idea: make predictions with each feature and decide which ones are most useful"
   ]
  },
  {
   "cell_type": "code",
   "execution_count": 23,
   "metadata": {
    "execution": {
     "iopub.execute_input": "2020-07-20T18:42:05.804965Z",
     "iopub.status.busy": "2020-07-20T18:42:05.804419Z",
     "iopub.status.idle": "2020-07-20T18:42:05.881844Z",
     "shell.execute_reply": "2020-07-20T18:42:05.869148Z",
     "shell.execute_reply.started": "2020-07-20T18:42:05.804903Z"
    }
   },
   "outputs": [
    {
     "data": {
      "text/plain": [
       "((569, 30), (569, 5))"
      ]
     },
     "execution_count": 23,
     "metadata": {},
     "output_type": "execute_result"
    }
   ],
   "source": [
    "from sklearn.feature_selection import SelectKBest\n",
    "from sklearn.feature_selection import chi2\n",
    "\n",
    "selector = SelectKBest(chi2, k=5)\n",
    "X_new = selector.fit_transform(cancer.data, cancer.target)\n",
    "cancer.data.shape, X_new.shape"
   ]
  },
  {
   "cell_type": "code",
   "execution_count": 24,
   "metadata": {
    "execution": {
     "iopub.execute_input": "2020-07-20T18:42:06.883743Z",
     "iopub.status.busy": "2020-07-20T18:42:06.883141Z",
     "iopub.status.idle": "2020-07-20T18:42:06.905999Z",
     "shell.execute_reply": "2020-07-20T18:42:06.902657Z",
     "shell.execute_reply.started": "2020-07-20T18:42:06.883696Z"
    }
   },
   "outputs": [
    {
     "data": {
      "text/plain": [
       "worst area         112598.431564\n",
       "mean area           53991.655924\n",
       "area error           8758.504705\n",
       "worst perimeter      3665.035416\n",
       "mean perimeter       2011.102864\n",
       "worst radius          491.689157\n",
       "mean radius           266.104917\n",
       "perimeter error       250.571896\n",
       "worst texture         174.449400\n",
       "mean texture           93.897508\n",
       "dtype: float64"
      ]
     },
     "execution_count": 24,
     "metadata": {},
     "output_type": "execute_result"
    }
   ],
   "source": [
    "kbest = pd.Series(selector.scores_, index=cancer.feature_names).sort_values(ascending=False)\n",
    "kbest.head(10)"
   ]
  },
  {
   "cell_type": "markdown",
   "metadata": {},
   "source": [
    "Let us take a look at how models work with all 30 features versus with just the top 5 in a univariate filter.  In this example, we do not get better with this step alone (but KNN doesn't get much worse), but in some cases the score will actually improve without surplus dimensions."
   ]
  },
  {
   "cell_type": "code",
   "execution_count": 25,
   "metadata": {
    "execution": {
     "iopub.execute_input": "2020-07-20T18:42:11.773011Z",
     "iopub.status.busy": "2020-07-20T18:42:11.770188Z",
     "iopub.status.idle": "2020-07-20T18:42:11.826050Z",
     "shell.execute_reply": "2020-07-20T18:42:11.803687Z",
     "shell.execute_reply.started": "2020-07-20T18:42:11.772900Z"
    }
   },
   "outputs": [],
   "source": [
    "from sklearn.linear_model import LinearRegression\n",
    "from sklearn.neighbors import KNeighborsClassifier\n",
    "lr, knn = LinearRegression(), KNeighborsClassifier()"
   ]
  },
  {
   "cell_type": "code",
   "execution_count": 26,
   "metadata": {
    "execution": {
     "iopub.execute_input": "2020-07-20T18:42:12.067323Z",
     "iopub.status.busy": "2020-07-20T18:42:12.061480Z",
     "iopub.status.idle": "2020-07-20T18:42:12.158549Z",
     "shell.execute_reply": "2020-07-20T18:42:12.155839Z",
     "shell.execute_reply.started": "2020-07-20T18:42:12.067274Z"
    }
   },
   "outputs": [
    {
     "name": "stdout",
     "output_type": "stream",
     "text": [
      "Fit raw features:\n",
      " LR: 0.722268601197212\n",
      "KNN: 0.9370629370629371\n"
     ]
    }
   ],
   "source": [
    "X_train, X_test, y_train, y_test = train_test_split(\n",
    "    cancer.data, cancer.target, random_state=1)\n",
    "print(\"Fit raw features:\")\n",
    "print(\" LR:\", lr.fit(X_train, y_train).score(X_test, y_test))\n",
    "print(\"KNN:\", knn.fit(X_train, y_train).score(X_test, y_test))"
   ]
  },
  {
   "cell_type": "markdown",
   "metadata": {},
   "source": [
    "We do *worse* with only five of the thirty features, but for KNN, not very much worse!"
   ]
  },
  {
   "cell_type": "code",
   "execution_count": 27,
   "metadata": {
    "execution": {
     "iopub.execute_input": "2020-07-20T18:42:12.693268Z",
     "iopub.status.busy": "2020-07-20T18:42:12.692732Z",
     "iopub.status.idle": "2020-07-20T18:42:12.752046Z",
     "shell.execute_reply": "2020-07-20T18:42:12.750795Z",
     "shell.execute_reply.started": "2020-07-20T18:42:12.693129Z"
    }
   },
   "outputs": [
    {
     "name": "stdout",
     "output_type": "stream",
     "text": [
      "Fit selected features:\n",
      " LR: 0.5857835011372031\n",
      "KNN: 0.9230769230769231\n"
     ]
    }
   ],
   "source": [
    "X_train, X_test, y_train, y_test = train_test_split(\n",
    "    X_new, cancer.target, random_state=1)\n",
    "print(\"Fit selected features:\")\n",
    "print(\" LR:\", lr.fit(X_train, y_train).score(X_test, y_test))\n",
    "print(\"KNN:\", knn.fit(X_train, y_train).score(X_test, y_test))"
   ]
  },
  {
   "cell_type": "markdown",
   "metadata": {},
   "source": [
    "### Model-based Feature Selection\n",
    "\n",
    "A number of selectors are based on the chosen underlying model itself rather on univariate strengths of features.  This only works with models than expose a `.coef_` or `.feature_importances_` attribute on a trained model.  Not all algorithms allow the determination of those values.\n",
    "\n",
    "We look here at **recursive feature elimination** which is based on a model, and arrives at the most important features by eliminating the least important, then refitting based on those that remain, and doing so repeatedly until only the number of features requested remain.  The selector `SelectFromModel` works in a similar way, but recursive selection will generally be better quality (albeit **much** slower since it involves repeated refitting)."
   ]
  },
  {
   "cell_type": "code",
   "execution_count": 28,
   "metadata": {
    "execution": {
     "iopub.execute_input": "2020-07-20T18:42:14.174688Z",
     "iopub.status.busy": "2020-07-20T18:42:14.174368Z",
     "iopub.status.idle": "2020-07-20T18:42:14.433849Z",
     "shell.execute_reply": "2020-07-20T18:42:14.432417Z",
     "shell.execute_reply.started": "2020-07-20T18:42:14.174642Z"
    }
   },
   "outputs": [
    {
     "data": {
      "text/plain": [
       "mean area            26\n",
       "worst area           25\n",
       "mean texture         24\n",
       "area error           23\n",
       "worst perimeter      22\n",
       "texture error        21\n",
       "worst texture        20\n",
       "worst compactness    19\n",
       "mean perimeter       18\n",
       "mean radius          17\n",
       "dtype: int64"
      ]
     },
     "execution_count": 28,
     "metadata": {},
     "output_type": "execute_result"
    }
   ],
   "source": [
    "# Recursive feature elimination\n",
    "from sklearn.feature_selection import RFE\n",
    "\n",
    "lr = LinearRegression()\n",
    "rfe = RFE(estimator=lr, n_features_to_select=5, step=1) \n",
    "rfe.fit(cancer.data, cancer.target)\n",
    "\n",
    "pd.Series(rfe.ranking_, index=cancer.feature_names).sort_values(ascending=False).head(10)"
   ]
  },
  {
   "cell_type": "markdown",
   "metadata": {},
   "source": [
    "The relative importance of features is similar, but somewhat different under recursive feature elimination than under K-best selection.  Given the nature of linear models, we mostly expect univariate elimination to behave similarly to recursive elimination based on linear regression.  Something like a decision tree (which provides `.feature_importances_`) might have a more different ranking of selected features."
   ]
  },
  {
   "cell_type": "markdown",
   "metadata": {},
   "source": [
    "We can go farther here and use `RFECV` to recursive eliminate features, cross-validate the model at each stage, and keep a record of the relationship between model score and number of features."
   ]
  },
  {
   "cell_type": "code",
   "execution_count": 29,
   "metadata": {
    "execution": {
     "iopub.execute_input": "2020-07-20T18:42:15.165352Z",
     "iopub.status.busy": "2020-07-20T18:42:15.164730Z",
     "iopub.status.idle": "2020-07-20T18:43:00.381166Z",
     "shell.execute_reply": "2020-07-20T18:43:00.378625Z",
     "shell.execute_reply.started": "2020-07-20T18:42:15.165286Z"
    }
   },
   "outputs": [
    {
     "data": {
      "image/png": "[encoded data removed]",
      "text/plain": [
       "<Figure size 720x360 with 1 Axes>"
      ]
     },
     "metadata": {
      "needs_background": "light"
     },
     "output_type": "display_data"
    }
   ],
   "source": [
    "import matplotlib.pyplot as plt\n",
    "from sklearn.ensemble import RandomForestClassifier\n",
    "from sklearn.feature_selection import RFECV\n",
    "\n",
    "rf = RandomForestClassifier(max_depth=7, random_state=1)\n",
    "rfecv = RFECV(estimator=rf)\n",
    "rfecv.fit(cancer.data, cancer.target)\n",
    "\n",
    "# Plot number of features VS. cross-validation scores\n",
    "plt.figure(figsize=(10,5))\n",
    "plt.xlabel(\"Number of features selected\")\n",
    "plt.ylabel(\"Cross validation score (nb of correct classifications)\")\n",
    "plt.plot(range(1, len(rfecv.grid_scores_) + 1), rfecv.grid_scores_)\n",
    "plt.title(\"Optimal number of features : %d\" % rfecv.n_features_)\n",
    "plt.show()"
   ]
  },
  {
   "cell_type": "markdown",
   "metadata": {},
   "source": [
    "## Comparing Selectors\n",
    "\n",
    "In the right circumstances, it can make a **huge** difference to create synthetic features and then to select among them in the best way.  Let's go all out in trying to create a genuinely *good* model for this cancer data.  That often involves everything we have seen: polynomial expansion, scaling, and feature selection.\n",
    "\n",
    "Given relatively high initial accuracy, it is more illustrative to look at how often a model is *wrong* than its accuracy to highlight differences."
   ]
  },
  {
   "cell_type": "code",
   "execution_count": 30,
   "metadata": {
    "execution": {
     "iopub.execute_input": "2020-07-20T18:43:00.383576Z",
     "iopub.status.busy": "2020-07-20T18:43:00.383146Z",
     "iopub.status.idle": "2020-07-20T18:43:00.393613Z",
     "shell.execute_reply": "2020-07-20T18:43:00.392543Z",
     "shell.execute_reply.started": "2020-07-20T18:43:00.383538Z"
    }
   },
   "outputs": [],
   "source": [
    "from sklearn.preprocessing import PolynomialFeatures\n",
    "poly = PolynomialFeatures(2)\n",
    "X_poly = poly.fit_transform(cancer.data)\n",
    "rfc = RandomForestClassifier(max_depth=7, random_state=1)"
   ]
  },
  {
   "cell_type": "code",
   "execution_count": 31,
   "metadata": {
    "execution": {
     "iopub.execute_input": "2020-07-20T18:43:00.396473Z",
     "iopub.status.busy": "2020-07-20T18:43:00.396210Z",
     "iopub.status.idle": "2020-07-20T18:43:00.770543Z",
     "shell.execute_reply": "2020-07-20T18:43:00.768768Z",
     "shell.execute_reply.started": "2020-07-20T18:43:00.396444Z"
    }
   },
   "outputs": [
    {
     "name": "stdout",
     "output_type": "stream",
     "text": [
      "Raw features, error rate: 3.50%\n"
     ]
    }
   ],
   "source": [
    "X_train, X_test, y_train, y_test = train_test_split(\n",
    "    cancer.data, cancer.target, random_state=42)\n",
    "\n",
    "acc = rfc.fit(X_train, y_train).score(X_test, y_test)\n",
    "print(f\"Raw features, error rate: {(1-acc)*100:.2f}%\")"
   ]
  },
  {
   "cell_type": "code",
   "execution_count": 32,
   "metadata": {
    "execution": {
     "iopub.execute_input": "2020-07-20T18:43:00.775074Z",
     "iopub.status.busy": "2020-07-20T18:43:00.774774Z",
     "iopub.status.idle": "2020-07-20T18:43:01.493402Z",
     "shell.execute_reply": "2020-07-20T18:43:01.492468Z",
     "shell.execute_reply.started": "2020-07-20T18:43:00.775045Z"
    }
   },
   "outputs": [
    {
     "name": "stdout",
     "output_type": "stream",
     "text": [
      "Scaled polynomial features, error rate: 2.10%\n"
     ]
    }
   ],
   "source": [
    "# Scale the engineered features (good practice, not directly helpful here)\n",
    "# NOTE: we use MinMaxScaler here rather than StandardScaler,\n",
    "#       because chi^2 test requires positive features\n",
    "from sklearn.preprocessing import MinMaxScaler\n",
    "X_poly_scaled = MinMaxScaler().fit_transform(X_poly)\n",
    "\n",
    "X_train, X_test, y_train, y_test = train_test_split(\n",
    "    X_poly_scaled, cancer.target, random_state=42)\n",
    "\n",
    "acc = rfc.fit(X_train, y_train).score(X_test, y_test)\n",
    "print(f\"Scaled polynomial features, error rate: {(1-acc)*100:.2f}%\")"
   ]
  },
  {
   "cell_type": "markdown",
   "metadata": {},
   "source": [
    "Select only the best 100 features in a univariate variate way rather than swamp the model with all 496 features."
   ]
  },
  {
   "cell_type": "code",
   "execution_count": 33,
   "metadata": {
    "execution": {
     "iopub.execute_input": "2020-07-20T18:43:01.503704Z",
     "iopub.status.busy": "2020-07-20T18:43:01.497814Z",
     "iopub.status.idle": "2020-07-20T18:43:01.918922Z",
     "shell.execute_reply": "2020-07-20T18:43:01.917216Z",
     "shell.execute_reply.started": "2020-07-20T18:43:01.503618Z"
    }
   },
   "outputs": [
    {
     "name": "stdout",
     "output_type": "stream",
     "text": [
      "Univariate best 100 poly, error rate: 1.40%\n"
     ]
    }
   ],
   "source": [
    "from sklearn.feature_selection import SelectKBest, chi2\n",
    "selector = SelectKBest(chi2, k=100)\n",
    "X_new = selector.fit_transform(X_poly_scaled, cancer.target)\n",
    "X_train, X_test, y_train, y_test = train_test_split(\n",
    "    X_new, cancer.target, random_state=42)\n",
    "\n",
    "acc = rfc.fit(X_train, y_train).score(X_test, y_test)\n",
    "print(f\"Univariate best 100 poly, error rate: {(1-acc)*100:.2f}%\")"
   ]
  },
  {
   "cell_type": "markdown",
   "metadata": {},
   "source": [
    "If we spend a while longer, we can use *Recursive Features Elimination with Cross-Validation* on all 496 of our polynomial features.  This involves retraining a Random Forest composed of 7 Decision Trees 496 separate times.  So it is some computational work.  \n",
    "\n",
    "The `n_jobs=-1` parameter says to use all the CPU cores on the current machine (on the machine I usually teach on, that is 8 cores)."
   ]
  },
  {
   "cell_type": "code",
   "execution_count": 34,
   "metadata": {
    "execution": {
     "iopub.execute_input": "2020-07-20T18:43:01.931374Z",
     "iopub.status.busy": "2020-07-20T18:43:01.930754Z",
     "iopub.status.idle": "2020-07-20T18:53:19.157696Z",
     "shell.execute_reply": "2020-07-20T18:53:19.155792Z",
     "shell.execute_reply.started": "2020-07-20T18:43:01.931324Z"
    }
   },
   "outputs": [
    {
     "name": "stdout",
     "output_type": "stream",
     "text": [
      "RFECV best 37 of 496 error rate: 0.70%\n",
      "CPU times: user 2min 30s, sys: 3.24 s, total: 2min 33s\n",
      "Wall time: 10min 17s\n"
     ]
    }
   ],
   "source": [
    "%%time\n",
    "X_train, X_test, y_train, y_test = train_test_split(\n",
    "    X_poly_scaled, cancer.target, random_state=42)\n",
    "\n",
    "rfecv = RFECV(estimator=rfc, n_jobs=-1)\n",
    "acc = rfecv.fit(X_train, y_train).score(X_test, y_test)\n",
    "print(f\"RFECV best {rfecv.n_features_} of {X_poly_scaled.shape[1]}\", \n",
    "      f\"error rate: {(1-acc)*100:.2f}%\")"
   ]
  },
  {
   "cell_type": "markdown",
   "metadata": {},
   "source": [
    "The result here is that there are 37 synthetic features—not so different in number from the original 30 dimensions—that are not only vastly better than the original features, but in facts have half the error rate of choosing 100 of the polynomial features in a univariate way.\n",
    "\n",
    "For what it is worth, I tried `k=50` and `k=100` is better, but I did not try every univariate k.  But remember that the order of selection of univariate features is fixed, so we would definitely have to go to more than 100 features to get these 37 \"Goldilocks\" features (and going too high will weaken the model because of the *curse of dimensionality*)."
   ]
  },
  {
   "cell_type": "markdown",
   "metadata": {},
   "source": [
    "As a passing note, I also tried using a degree-3 polynomial to create thousands of synthetic features, then after a very long run time (hours), produced something worse than the degree-2 example above.  The problem was that RFECV still selected over a thousand features in this example. Possibly other mechanisms to more aggressively winnow degree-3 features could eek out an incremental gain, but also likely is that degree-2 is best suited for this dataset."
   ]
  },
  {
   "cell_type": "markdown",
   "metadata": {},
   "source": [
    "## Next lesson\n",
    "\n",
    "**Pipelines**: In this lesson we dealt with quite a lot of what we might call *data engineering*. The need for feature selection, feature engineering, and scaling, goes beyond the base fact that \"data always comes in messy.\"  Certainly the need for data cleaning is important, and has probably not been addressed to match that importance in this course.  But even data that is spotless for an data integrity and anomaly perspective (a lofty goal) might still need to be massaged to allow models to succeed in their magic.\n",
    "\n",
    "The next lesson on pipelines will be fairly short, but very important.  We have seen a variety of ways we can manipulate data—and also ways we can tune models with hyperparameters—but we have done each of these steps one-by-one, in explicit code with extra intermediate steps lying around along the way.  Pipelines allow us to package all these steps together in one resusable API.\n",
    "\n",
    "<a href=\"Pipelines.ipynb\"><img src=\"img/open-notebook.png\" align=\"left\"/></a>"
   ]
  }
 ],
 "metadata": {
  "kernelspec": {
   "display_name": "Python 3",
   "language": "python",
   "name": "python3"
  },
  "language_info": {
   "codemirror_mode": {
    "name": "ipython",
    "version": 3
   },
   "file_extension": ".py",
   "mimetype": "text/x-python",
   "name": "python",
   "nbconvert_exporter": "python",
   "pygments_lexer": "ipython3",
   "version": "3.7.7"
  }
 },
 "nbformat": 4,
 "nbformat_minor": 4
}
