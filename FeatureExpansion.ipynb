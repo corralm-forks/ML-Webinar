{
 "cells": [
  {
   "cell_type": "markdown",
   "metadata": {},
   "source": [
    "# Machine Learning with scikit-learn\n",
    "\n",
    "Sometimes the features you have available in your initial data have little predictive strength when used in the most straightforward way.  This might be true almost regardless of choice of model class and hyperparameters.  And yet it might also be true that there are synthetic features latent in the data that are highly predictive, but that have to be *engineered* (mechanically, rather than sample-wise modification) to produce powerful features.\n",
    "\n",
    "At the same time, a highly dimension model—whether of high dimension because of the initial data collection or because of creation of extra synthetic features—may lend itself less well to modeling techniques.  In these cases, it can be more computationally tractable, as well as more predictive, to work with a subset of all available features.\n",
    "\n",
    "We will spend several lessons that can be thought of broadly as \"Feature Engineering.\" This middle lesson focuses on creating new composite or derived features features."
   ]
  },
  {
   "cell_type": "code",
   "execution_count": 1,
   "metadata": {
    "execution": {
     "iopub.execute_input": "2020-07-20T18:03:01.467612Z",
     "iopub.status.busy": "2020-07-20T18:03:01.467290Z",
     "iopub.status.idle": "2020-07-20T18:03:15.736883Z",
     "shell.execute_reply": "2020-07-20T18:03:15.735539Z",
     "shell.execute_reply.started": "2020-07-20T18:03:01.467574Z"
    }
   },
   "outputs": [],
   "source": [
    "%matplotlib inline\n",
    "from src.setup import *"
   ]
  },
  {
   "cell_type": "markdown",
   "metadata": {},
   "source": [
    "# A synthetic example\n",
    "\n",
    "Let us look at an artificial example where the raw features of a dataset are of absolutely no value, but it is possible to derive good predictions by creating syntheric features out of them.  Obviously, real world data will not be as neat as that, but it is useful to express the concept.\n",
    "\n",
    "At first brush the loaded data seems fairly noisy without an obvious pattern."
   ]
  },
  {
   "cell_type": "code",
   "execution_count": 2,
   "metadata": {
    "execution": {
     "iopub.execute_input": "2020-07-20T18:03:45.220115Z",
     "iopub.status.busy": "2020-07-20T18:03:45.219813Z",
     "iopub.status.idle": "2020-07-20T18:03:45.245735Z",
     "shell.execute_reply": "2020-07-20T18:03:45.244102Z",
     "shell.execute_reply.started": "2020-07-20T18:03:45.220084Z"
    }
   },
   "outputs": [
    {
     "data": {
      "text/html": [
       "<div>\n",
       "<style scoped>\n",
       "    .dataframe tbody tr th:only-of-type {\n",
       "        vertical-align: middle;\n",
       "    }\n",
       "\n",
       "    .dataframe tbody tr th {\n",
       "        vertical-align: top;\n",
       "    }\n",
       "\n",
       "    .dataframe thead th {\n",
       "        text-align: right;\n",
       "    }\n",
       "</style>\n",
       "<table border=\"1\" class=\"dataframe\">\n",
       "  <thead>\n",
       "    <tr style=\"text-align: right;\">\n",
       "      <th></th>\n",
       "      <th>feature_1</th>\n",
       "      <th>feature_2</th>\n",
       "      <th>TARGET</th>\n",
       "    </tr>\n",
       "  </thead>\n",
       "  <tbody>\n",
       "    <tr>\n",
       "      <th>0</th>\n",
       "      <td>0.162275</td>\n",
       "      <td>-0.282523</td>\n",
       "      <td>-0.045846</td>\n",
       "    </tr>\n",
       "    <tr>\n",
       "      <th>1</th>\n",
       "      <td>-0.874404</td>\n",
       "      <td>-0.164955</td>\n",
       "      <td>0.144237</td>\n",
       "    </tr>\n",
       "    <tr>\n",
       "      <th>2</th>\n",
       "      <td>0.000540</td>\n",
       "      <td>0.751708</td>\n",
       "      <td>0.000406</td>\n",
       "    </tr>\n",
       "    <tr>\n",
       "      <th>3</th>\n",
       "      <td>0.721775</td>\n",
       "      <td>-0.246271</td>\n",
       "      <td>-0.177752</td>\n",
       "    </tr>\n",
       "    <tr>\n",
       "      <th>4</th>\n",
       "      <td>0.374113</td>\n",
       "      <td>0.283637</td>\n",
       "      <td>0.106112</td>\n",
       "    </tr>\n",
       "  </tbody>\n",
       "</table>\n",
       "</div>"
      ],
      "text/plain": [
       "   feature_1  feature_2    TARGET\n",
       "0   0.162275  -0.282523 -0.045846\n",
       "1  -0.874404  -0.164955  0.144237\n",
       "2   0.000540   0.751708  0.000406\n",
       "3   0.721775  -0.246271 -0.177752\n",
       "4   0.374113   0.283637  0.106112"
      ]
     },
     "execution_count": 2,
     "metadata": {},
     "output_type": "execute_result"
    }
   ],
   "source": [
    "linf.head()"
   ]
  },
  {
   "cell_type": "code",
   "execution_count": 3,
   "metadata": {
    "execution": {
     "iopub.execute_input": "2020-07-20T18:03:47.982838Z",
     "iopub.status.busy": "2020-07-20T18:03:47.982487Z",
     "iopub.status.idle": "2020-07-20T18:03:48.010818Z",
     "shell.execute_reply": "2020-07-20T18:03:48.004935Z",
     "shell.execute_reply.started": "2020-07-20T18:03:47.982800Z"
    }
   },
   "outputs": [
    {
     "data": {
      "text/html": [
       "<div>\n",
       "<style scoped>\n",
       "    .dataframe tbody tr th:only-of-type {\n",
       "        vertical-align: middle;\n",
       "    }\n",
       "\n",
       "    .dataframe tbody tr th {\n",
       "        vertical-align: top;\n",
       "    }\n",
       "\n",
       "    .dataframe thead th {\n",
       "        text-align: right;\n",
       "    }\n",
       "</style>\n",
       "<table border=\"1\" class=\"dataframe\">\n",
       "  <thead>\n",
       "    <tr style=\"text-align: right;\">\n",
       "      <th></th>\n",
       "      <th>feature_1</th>\n",
       "      <th>feature_2</th>\n",
       "      <th>TARGET</th>\n",
       "    </tr>\n",
       "  </thead>\n",
       "  <tbody>\n",
       "    <tr>\n",
       "      <th>feature_1</th>\n",
       "      <td>1.000000</td>\n",
       "      <td>-0.006995</td>\n",
       "      <td>0.033990</td>\n",
       "    </tr>\n",
       "    <tr>\n",
       "      <th>feature_2</th>\n",
       "      <td>-0.006995</td>\n",
       "      <td>1.000000</td>\n",
       "      <td>-0.031077</td>\n",
       "    </tr>\n",
       "    <tr>\n",
       "      <th>TARGET</th>\n",
       "      <td>0.033990</td>\n",
       "      <td>-0.031077</td>\n",
       "      <td>1.000000</td>\n",
       "    </tr>\n",
       "  </tbody>\n",
       "</table>\n",
       "</div>"
      ],
      "text/plain": [
       "           feature_1  feature_2    TARGET\n",
       "feature_1   1.000000  -0.006995  0.033990\n",
       "feature_2  -0.006995   1.000000 -0.031077\n",
       "TARGET      0.033990  -0.031077  1.000000"
      ]
     },
     "execution_count": 3,
     "metadata": {},
     "output_type": "execute_result"
    }
   ],
   "source": [
    "# The features seem uncorrelated, and no univariate correlation with target\n",
    "linf.corr()"
   ]
  },
  {
   "cell_type": "code",
   "execution_count": 4,
   "metadata": {
    "execution": {
     "iopub.execute_input": "2020-07-20T18:03:54.322158Z",
     "iopub.status.busy": "2020-07-20T18:03:54.321878Z",
     "iopub.status.idle": "2020-07-20T18:03:55.285090Z",
     "shell.execute_reply": "2020-07-20T18:03:55.282240Z",
     "shell.execute_reply.started": "2020-07-20T18:03:54.322127Z"
    }
   },
   "outputs": [
    {
     "data": {
      "image/png": "[encoded data removed]",
      "text/plain": [
       "<Figure size 864x432 with 4 Axes>"
      ]
     },
     "metadata": {
      "needs_background": "light"
     },
     "output_type": "display_data"
    }
   ],
   "source": [
    "# Distribution of features and target looks roughly Gaussian\n",
    "linf.hist(figsize=(12,6));"
   ]
  },
  {
   "cell_type": "code",
   "execution_count": 5,
   "metadata": {
    "execution": {
     "iopub.execute_input": "2020-07-20T18:04:00.228705Z",
     "iopub.status.busy": "2020-07-20T18:04:00.228391Z",
     "iopub.status.idle": "2020-07-20T18:04:00.572403Z",
     "shell.execute_reply": "2020-07-20T18:04:00.571453Z",
     "shell.execute_reply.started": "2020-07-20T18:04:00.228671Z"
    }
   },
   "outputs": [
    {
     "data": {
      "image/png": "[encoded data removed]",
      "text/plain": [
       "<Figure size 864x432 with 1 Axes>"
      ]
     },
     "metadata": {
      "needs_background": "light"
     },
     "output_type": "display_data"
    }
   ],
   "source": [
    "# No obvious trends in the data as sequences\n",
    "%matplotlib inline\n",
    "linf.plot(figsize=(12,6), style='.');"
   ]
  },
  {
   "cell_type": "markdown",
   "metadata": {},
   "source": [
    "We might hope to identify a relationship between features and target using a linear regression such as this:"
   ]
  },
  {
   "cell_type": "code",
   "execution_count": 6,
   "metadata": {
    "execution": {
     "iopub.execute_input": "2020-07-20T18:04:41.675372Z",
     "iopub.status.busy": "2020-07-20T18:04:41.675073Z",
     "iopub.status.idle": "2020-07-20T18:04:41.710437Z",
     "shell.execute_reply": "2020-07-20T18:04:41.707397Z",
     "shell.execute_reply.started": "2020-07-20T18:04:41.675341Z"
    }
   },
   "outputs": [
    {
     "data": {
      "text/plain": [
       "-0.0037690717364380344"
      ]
     },
     "execution_count": 6,
     "metadata": {},
     "output_type": "execute_result"
    }
   ],
   "source": [
    "from sklearn.linear_model import LinearRegression\n",
    "\n",
    "X = linf.drop('TARGET', axis=1)\n",
    "y = linf['TARGET']\n",
    "\n",
    "X_train, X_test, y_train, y_test = train_test_split(X, y)\n",
    "lr = LinearRegression()\n",
    "lr.fit(X_train, y_train)\n",
    "lr.score(X_test, y_test)"
   ]
  },
  {
   "cell_type": "markdown",
   "metadata": {},
   "source": [
    "Slightly different linear models do equally poorly in detecting any relationship between the features and the target.  Notice that the metric used here is $R^2$ score rather than e.g. explained variance or mean absolute error (or others).\n"
   ]
  },
  {
   "cell_type": "code",
   "execution_count": 7,
   "metadata": {
    "execution": {
     "iopub.execute_input": "2020-07-20T18:05:19.216574Z",
     "iopub.status.busy": "2020-07-20T18:05:19.216241Z",
     "iopub.status.idle": "2020-07-20T18:05:19.252758Z",
     "shell.execute_reply": "2020-07-20T18:05:19.243806Z",
     "shell.execute_reply.started": "2020-07-20T18:05:19.216539Z"
    }
   },
   "outputs": [
    {
     "data": {
      "text/plain": [
       "(-0.004423533833702198, -0.0037623722784978497)"
      ]
     },
     "execution_count": 7,
     "metadata": {},
     "output_type": "execute_result"
    }
   ],
   "source": [
    "from sklearn.linear_model import Lasso, Ridge\n",
    "lasso, ridge = Lasso(), Ridge()\n",
    "lasso.fit(X_train, y_train)\n",
    "ridge.fit(X_train, y_train)\n",
    "\n",
    "lasso.score(X_test, y_test), ridge.score(X_test, y_test)"
   ]
  },
  {
   "cell_type": "markdown",
   "metadata": {},
   "source": [
    "## Adding a feature\n",
    "\n",
    "Let us try creating a new feature that is entirely based on existing features."
   ]
  },
  {
   "cell_type": "code",
   "execution_count": 8,
   "metadata": {
    "execution": {
     "iopub.execute_input": "2020-07-20T18:05:24.513227Z",
     "iopub.status.busy": "2020-07-20T18:05:24.512922Z",
     "iopub.status.idle": "2020-07-20T18:05:24.546242Z",
     "shell.execute_reply": "2020-07-20T18:05:24.543452Z",
     "shell.execute_reply.started": "2020-07-20T18:05:24.513193Z"
    }
   },
   "outputs": [
    {
     "data": {
      "text/html": [
       "<div>\n",
       "<style scoped>\n",
       "    .dataframe tbody tr th:only-of-type {\n",
       "        vertical-align: middle;\n",
       "    }\n",
       "\n",
       "    .dataframe tbody tr th {\n",
       "        vertical-align: top;\n",
       "    }\n",
       "\n",
       "    .dataframe thead th {\n",
       "        text-align: right;\n",
       "    }\n",
       "</style>\n",
       "<table border=\"1\" class=\"dataframe\">\n",
       "  <thead>\n",
       "    <tr style=\"text-align: right;\">\n",
       "      <th></th>\n",
       "      <th>feature_1</th>\n",
       "      <th>feature_2</th>\n",
       "      <th>TARGET</th>\n",
       "      <th>f1xf2</th>\n",
       "    </tr>\n",
       "  </thead>\n",
       "  <tbody>\n",
       "    <tr>\n",
       "      <th>0</th>\n",
       "      <td>0.162275</td>\n",
       "      <td>-0.282523</td>\n",
       "      <td>-0.045846</td>\n",
       "      <td>-0.045846</td>\n",
       "    </tr>\n",
       "    <tr>\n",
       "      <th>1</th>\n",
       "      <td>-0.874404</td>\n",
       "      <td>-0.164955</td>\n",
       "      <td>0.144237</td>\n",
       "      <td>0.144237</td>\n",
       "    </tr>\n",
       "    <tr>\n",
       "      <th>2</th>\n",
       "      <td>0.000540</td>\n",
       "      <td>0.751708</td>\n",
       "      <td>0.000406</td>\n",
       "      <td>0.000406</td>\n",
       "    </tr>\n",
       "    <tr>\n",
       "      <th>3</th>\n",
       "      <td>0.721775</td>\n",
       "      <td>-0.246271</td>\n",
       "      <td>-0.177752</td>\n",
       "      <td>-0.177752</td>\n",
       "    </tr>\n",
       "    <tr>\n",
       "      <th>4</th>\n",
       "      <td>0.374113</td>\n",
       "      <td>0.283637</td>\n",
       "      <td>0.106112</td>\n",
       "      <td>0.106112</td>\n",
       "    </tr>\n",
       "  </tbody>\n",
       "</table>\n",
       "</div>"
      ],
      "text/plain": [
       "   feature_1  feature_2    TARGET     f1xf2\n",
       "0   0.162275  -0.282523 -0.045846 -0.045846\n",
       "1  -0.874404  -0.164955  0.144237  0.144237\n",
       "2   0.000540   0.751708  0.000406  0.000406\n",
       "3   0.721775  -0.246271 -0.177752 -0.177752\n",
       "4   0.374113   0.283637  0.106112  0.106112"
      ]
     },
     "execution_count": 8,
     "metadata": {},
     "output_type": "execute_result"
    }
   ],
   "source": [
    "linf['f1xf2'] = linf.feature_1 * linf.feature_2\n",
    "linf.head()"
   ]
  },
  {
   "cell_type": "code",
   "execution_count": 9,
   "metadata": {
    "execution": {
     "iopub.execute_input": "2020-07-20T18:05:30.511284Z",
     "iopub.status.busy": "2020-07-20T18:05:30.510950Z",
     "iopub.status.idle": "2020-07-20T18:05:30.537372Z",
     "shell.execute_reply": "2020-07-20T18:05:30.534494Z",
     "shell.execute_reply.started": "2020-07-20T18:05:30.511246Z"
    }
   },
   "outputs": [
    {
     "data": {
      "text/plain": [
       "1.0"
      ]
     },
     "execution_count": 9,
     "metadata": {},
     "output_type": "execute_result"
    }
   ],
   "source": [
    "X = linf.drop('TARGET', axis=1)\n",
    "y = linf['TARGET']\n",
    "\n",
    "X_train, X_test, y_train, y_test = train_test_split(X, y)\n",
    "lr = LinearRegression()\n",
    "lr.fit(X_train, y_train)\n",
    "lr.score(X_test, y_test)"
   ]
  },
  {
   "cell_type": "markdown",
   "metadata": {},
   "source": [
    "The information we need was \"latent\" in the data the whole time, it just needed to be teased out.\n",
    "\n",
    "In fairness, we can note that other regressors manage to derive the synthetic feature through their algorithmic structure.  But these regressors will have their own \"blind spots\" also, relative to different datasets."
   ]
  },
  {
   "cell_type": "code",
   "execution_count": 10,
   "metadata": {
    "execution": {
     "iopub.execute_input": "2020-07-20T18:06:08.590143Z",
     "iopub.status.busy": "2020-07-20T18:06:08.589850Z",
     "iopub.status.idle": "2020-07-20T18:06:08.599683Z",
     "shell.execute_reply": "2020-07-20T18:06:08.598748Z",
     "shell.execute_reply.started": "2020-07-20T18:06:08.590111Z"
    }
   },
   "outputs": [],
   "source": [
    "X = linf.drop('TARGET', axis=1)\n",
    "y = linf['TARGET']\n",
    "X_train, X_test, y_train, y_test = train_test_split(X, y)"
   ]
  },
  {
   "cell_type": "code",
   "execution_count": 11,
   "metadata": {
    "execution": {
     "iopub.execute_input": "2020-07-20T18:06:09.767703Z",
     "iopub.status.busy": "2020-07-20T18:06:09.767172Z",
     "iopub.status.idle": "2020-07-20T18:06:09.819499Z",
     "shell.execute_reply": "2020-07-20T18:06:09.804895Z",
     "shell.execute_reply.started": "2020-07-20T18:06:09.767643Z"
    }
   },
   "outputs": [
    {
     "data": {
      "text/plain": [
       "0.9997683155639767"
      ]
     },
     "execution_count": 11,
     "metadata": {},
     "output_type": "execute_result"
    }
   ],
   "source": [
    "from sklearn.tree import DecisionTreeRegressor\n",
    "dtr = DecisionTreeRegressor()\n",
    "dtr.fit(X_train, y_train)\n",
    "dtr.score(X_test, y_test)"
   ]
  },
  {
   "cell_type": "code",
   "execution_count": 12,
   "metadata": {
    "execution": {
     "iopub.execute_input": "2020-07-20T18:06:10.811606Z",
     "iopub.status.busy": "2020-07-20T18:06:10.807583Z",
     "iopub.status.idle": "2020-07-20T18:06:10.838865Z",
     "shell.execute_reply": "2020-07-20T18:06:10.834043Z",
     "shell.execute_reply.started": "2020-07-20T18:06:10.811555Z"
    }
   },
   "outputs": [
    {
     "data": {
      "text/plain": [
       "0.9705225585060672"
      ]
     },
     "execution_count": 12,
     "metadata": {},
     "output_type": "execute_result"
    }
   ],
   "source": [
    "from sklearn.svm import SVR\n",
    "svr = SVR()\n",
    "svr.fit(X_train, y_train)\n",
    "svr.score(X_test, y_test)"
   ]
  },
  {
   "cell_type": "markdown",
   "metadata": {},
   "source": [
    "# Dimensionality Expansion\n",
    "\n",
    "There are two standard ways in which you are likely to engineer new synthetic features based on existing features: **polynomial features and one-hot encoding**.  In a sense, the decompositions also do the same thing—but they create synthetic features globally across the parametric space, and they generally are used as replacements rather than supplements to raw features."
   ]
  },
  {
   "cell_type": "markdown",
   "metadata": {},
   "source": [
    "## Polynomial Features\n",
    "\n",
    "Generating polynomial features will create a very large number of new features.  The basic idea is simple, we add new features that are the multiplicative product of up to degree=N of the existing features.  In the toy example at the beginning of this lesson, we manually synthesized one feature by multiplying two existing ones together.  The `PolyFeatures` construction does so with all combinations of parameters.\n",
    "\n",
    "Often using polynomial features is a large part of the reason it is particularly important to go back and winnow features using feature selection.  Reducing 30 features to 15, for example, is unlikely to be hugely important to most models.  But reducing the 496 synthetic features in the below example becomes important (let alone the much larger number if you choose a higher degree or started with more raw features).  We look at this winnowing in the next lesson.\n",
    "\n",
    "If the `interactions_only` option is not used, the number of produced features is:\n",
    "\n",
    "$$ \\#Features = N + N + \\frac{N \\times (N-1)}{2} + 1 $$\n",
    "\n",
    "E.g. for dimensions=30, it is 496; for dimensions=100, it is 5151."
   ]
  },
  {
   "cell_type": "code",
   "execution_count": 13,
   "metadata": {
    "execution": {
     "iopub.execute_input": "2020-07-20T18:14:08.170182Z",
     "iopub.status.busy": "2020-07-20T18:14:08.169884Z",
     "iopub.status.idle": "2020-07-20T18:14:08.219224Z",
     "shell.execute_reply": "2020-07-20T18:14:08.217304Z",
     "shell.execute_reply.started": "2020-07-20T18:14:08.170152Z"
    }
   },
   "outputs": [],
   "source": [
    "cancer = load_breast_cancer()"
   ]
  },
  {
   "cell_type": "code",
   "execution_count": 14,
   "metadata": {
    "execution": {
     "iopub.execute_input": "2020-07-20T18:14:24.551470Z",
     "iopub.status.busy": "2020-07-20T18:14:24.551153Z",
     "iopub.status.idle": "2020-07-20T18:14:24.568110Z",
     "shell.execute_reply": "2020-07-20T18:14:24.564202Z",
     "shell.execute_reply.started": "2020-07-20T18:14:24.551434Z"
    }
   },
   "outputs": [
    {
     "name": "stdout",
     "output_type": "stream",
     "text": [
      "(569, 30)\n",
      "(569, 496)\n"
     ]
    }
   ],
   "source": [
    "from sklearn.preprocessing import PolynomialFeatures\n",
    "poly = PolynomialFeatures(2)\n",
    "X_poly = poly.fit_transform(cancer.data)\n",
    "print(cancer.data.shape)\n",
    "print(X_poly.shape)"
   ]
  },
  {
   "cell_type": "code",
   "execution_count": 15,
   "metadata": {
    "execution": {
     "iopub.execute_input": "2020-07-20T18:14:33.957703Z",
     "iopub.status.busy": "2020-07-20T18:14:33.957389Z",
     "iopub.status.idle": "2020-07-20T18:14:34.014470Z",
     "shell.execute_reply": "2020-07-20T18:14:34.013321Z",
     "shell.execute_reply.started": "2020-07-20T18:14:33.957669Z"
    }
   },
   "outputs": [
    {
     "data": {
      "text/html": [
       "<div>\n",
       "<style scoped>\n",
       "    .dataframe tbody tr th:only-of-type {\n",
       "        vertical-align: middle;\n",
       "    }\n",
       "\n",
       "    .dataframe tbody tr th {\n",
       "        vertical-align: top;\n",
       "    }\n",
       "\n",
       "    .dataframe thead th {\n",
       "        text-align: right;\n",
       "    }\n",
       "</style>\n",
       "<table border=\"1\" class=\"dataframe\">\n",
       "  <thead>\n",
       "    <tr style=\"text-align: right;\">\n",
       "      <th></th>\n",
       "      <th>1</th>\n",
       "      <th>mean radius</th>\n",
       "      <th>mean texture</th>\n",
       "      <th>mean perimeter</th>\n",
       "      <th>mean area</th>\n",
       "      <th>mean smoothness</th>\n",
       "      <th>mean compactness</th>\n",
       "      <th>mean concavity</th>\n",
       "      <th>mean concave points</th>\n",
       "      <th>mean symmetry</th>\n",
       "      <th>...</th>\n",
       "      <th>worst concavity^2</th>\n",
       "      <th>worst concavity worst concave points</th>\n",
       "      <th>worst concavity worst symmetry</th>\n",
       "      <th>worst concavity worst fractal dimension</th>\n",
       "      <th>worst concave points^2</th>\n",
       "      <th>worst concave points worst symmetry</th>\n",
       "      <th>worst concave points worst fractal dimension</th>\n",
       "      <th>worst symmetry^2</th>\n",
       "      <th>worst symmetry worst fractal dimension</th>\n",
       "      <th>worst fractal dimension^2</th>\n",
       "    </tr>\n",
       "  </thead>\n",
       "  <tbody>\n",
       "    <tr>\n",
       "      <th>0</th>\n",
       "      <td>1.0</td>\n",
       "      <td>17.99</td>\n",
       "      <td>10.38</td>\n",
       "      <td>122.80</td>\n",
       "      <td>1001.0</td>\n",
       "      <td>0.11840</td>\n",
       "      <td>0.27760</td>\n",
       "      <td>0.3001</td>\n",
       "      <td>0.14710</td>\n",
       "      <td>0.2419</td>\n",
       "      <td>...</td>\n",
       "      <td>0.506802</td>\n",
       "      <td>0.188938</td>\n",
       "      <td>0.327545</td>\n",
       "      <td>0.084645</td>\n",
       "      <td>0.070437</td>\n",
       "      <td>0.122111</td>\n",
       "      <td>0.031556</td>\n",
       "      <td>0.211692</td>\n",
       "      <td>0.054706</td>\n",
       "      <td>0.014137</td>\n",
       "    </tr>\n",
       "    <tr>\n",
       "      <th>1</th>\n",
       "      <td>1.0</td>\n",
       "      <td>20.57</td>\n",
       "      <td>17.77</td>\n",
       "      <td>132.90</td>\n",
       "      <td>1326.0</td>\n",
       "      <td>0.08474</td>\n",
       "      <td>0.07864</td>\n",
       "      <td>0.0869</td>\n",
       "      <td>0.07017</td>\n",
       "      <td>0.1812</td>\n",
       "      <td>...</td>\n",
       "      <td>0.058371</td>\n",
       "      <td>0.044938</td>\n",
       "      <td>0.066440</td>\n",
       "      <td>0.021507</td>\n",
       "      <td>0.034596</td>\n",
       "      <td>0.051150</td>\n",
       "      <td>0.016558</td>\n",
       "      <td>0.075625</td>\n",
       "      <td>0.024481</td>\n",
       "      <td>0.007925</td>\n",
       "    </tr>\n",
       "    <tr>\n",
       "      <th>2</th>\n",
       "      <td>1.0</td>\n",
       "      <td>19.69</td>\n",
       "      <td>21.25</td>\n",
       "      <td>130.00</td>\n",
       "      <td>1203.0</td>\n",
       "      <td>0.10960</td>\n",
       "      <td>0.15990</td>\n",
       "      <td>0.1974</td>\n",
       "      <td>0.12790</td>\n",
       "      <td>0.2069</td>\n",
       "      <td>...</td>\n",
       "      <td>0.202860</td>\n",
       "      <td>0.109447</td>\n",
       "      <td>0.162730</td>\n",
       "      <td>0.039446</td>\n",
       "      <td>0.059049</td>\n",
       "      <td>0.087796</td>\n",
       "      <td>0.021282</td>\n",
       "      <td>0.130538</td>\n",
       "      <td>0.031643</td>\n",
       "      <td>0.007670</td>\n",
       "    </tr>\n",
       "    <tr>\n",
       "      <th>3</th>\n",
       "      <td>1.0</td>\n",
       "      <td>11.42</td>\n",
       "      <td>20.38</td>\n",
       "      <td>77.58</td>\n",
       "      <td>386.1</td>\n",
       "      <td>0.14250</td>\n",
       "      <td>0.28390</td>\n",
       "      <td>0.2414</td>\n",
       "      <td>0.10520</td>\n",
       "      <td>0.2597</td>\n",
       "      <td>...</td>\n",
       "      <td>0.471832</td>\n",
       "      <td>0.176877</td>\n",
       "      <td>0.455964</td>\n",
       "      <td>0.118834</td>\n",
       "      <td>0.066306</td>\n",
       "      <td>0.170928</td>\n",
       "      <td>0.044547</td>\n",
       "      <td>0.440630</td>\n",
       "      <td>0.114837</td>\n",
       "      <td>0.029929</td>\n",
       "    </tr>\n",
       "    <tr>\n",
       "      <th>4</th>\n",
       "      <td>1.0</td>\n",
       "      <td>20.29</td>\n",
       "      <td>14.34</td>\n",
       "      <td>135.10</td>\n",
       "      <td>1297.0</td>\n",
       "      <td>0.10030</td>\n",
       "      <td>0.13280</td>\n",
       "      <td>0.1980</td>\n",
       "      <td>0.10430</td>\n",
       "      <td>0.1809</td>\n",
       "      <td>...</td>\n",
       "      <td>0.160000</td>\n",
       "      <td>0.065000</td>\n",
       "      <td>0.094560</td>\n",
       "      <td>0.030712</td>\n",
       "      <td>0.026406</td>\n",
       "      <td>0.038415</td>\n",
       "      <td>0.012477</td>\n",
       "      <td>0.055885</td>\n",
       "      <td>0.018151</td>\n",
       "      <td>0.005895</td>\n",
       "    </tr>\n",
       "  </tbody>\n",
       "</table>\n",
       "<p>5 rows × 496 columns</p>\n",
       "</div>"
      ],
      "text/plain": [
       "     1  mean radius  mean texture  mean perimeter  mean area  mean smoothness  \\\n",
       "0  1.0        17.99         10.38          122.80     1001.0          0.11840   \n",
       "1  1.0        20.57         17.77          132.90     1326.0          0.08474   \n",
       "2  1.0        19.69         21.25          130.00     1203.0          0.10960   \n",
       "3  1.0        11.42         20.38           77.58      386.1          0.14250   \n",
       "4  1.0        20.29         14.34          135.10     1297.0          0.10030   \n",
       "\n",
       "   mean compactness  mean concavity  mean concave points  mean symmetry  ...  \\\n",
       "0           0.27760          0.3001              0.14710         0.2419  ...   \n",
       "1           0.07864          0.0869              0.07017         0.1812  ...   \n",
       "2           0.15990          0.1974              0.12790         0.2069  ...   \n",
       "3           0.28390          0.2414              0.10520         0.2597  ...   \n",
       "4           0.13280          0.1980              0.10430         0.1809  ...   \n",
       "\n",
       "   worst concavity^2  worst concavity worst concave points  \\\n",
       "0           0.506802                              0.188938   \n",
       "1           0.058371                              0.044938   \n",
       "2           0.202860                              0.109447   \n",
       "3           0.471832                              0.176877   \n",
       "4           0.160000                              0.065000   \n",
       "\n",
       "   worst concavity worst symmetry  worst concavity worst fractal dimension  \\\n",
       "0                        0.327545                                 0.084645   \n",
       "1                        0.066440                                 0.021507   \n",
       "2                        0.162730                                 0.039446   \n",
       "3                        0.455964                                 0.118834   \n",
       "4                        0.094560                                 0.030712   \n",
       "\n",
       "   worst concave points^2  worst concave points worst symmetry  \\\n",
       "0                0.070437                             0.122111   \n",
       "1                0.034596                             0.051150   \n",
       "2                0.059049                             0.087796   \n",
       "3                0.066306                             0.170928   \n",
       "4                0.026406                             0.038415   \n",
       "\n",
       "   worst concave points worst fractal dimension  worst symmetry^2  \\\n",
       "0                                      0.031556          0.211692   \n",
       "1                                      0.016558          0.075625   \n",
       "2                                      0.021282          0.130538   \n",
       "3                                      0.044547          0.440630   \n",
       "4                                      0.012477          0.055885   \n",
       "\n",
       "   worst symmetry worst fractal dimension  worst fractal dimension^2  \n",
       "0                                0.054706                   0.014137  \n",
       "1                                0.024481                   0.007925  \n",
       "2                                0.031643                   0.007670  \n",
       "3                                0.114837                   0.029929  \n",
       "4                                0.018151                   0.005895  \n",
       "\n",
       "[5 rows x 496 columns]"
      ]
     },
     "execution_count": 15,
     "metadata": {},
     "output_type": "execute_result"
    }
   ],
   "source": [
    "poly_names = poly.get_feature_names(cancer.feature_names)\n",
    "pd.DataFrame(X_poly, columns=poly_names).head()"
   ]
  },
  {
   "cell_type": "markdown",
   "metadata": {},
   "source": [
    "Just to show it off, let us look at how much more higher degree combinations would explode things."
   ]
  },
  {
   "cell_type": "code",
   "execution_count": 16,
   "metadata": {
    "execution": {
     "iopub.execute_input": "2020-07-20T18:14:44.784493Z",
     "iopub.status.busy": "2020-07-20T18:14:44.784205Z",
     "iopub.status.idle": "2020-07-20T18:14:44.909111Z",
     "shell.execute_reply": "2020-07-20T18:14:44.876887Z",
     "shell.execute_reply.started": "2020-07-20T18:14:44.784462Z"
    }
   },
   "outputs": [
    {
     "data": {
      "text/plain": [
       "(569, 5456)"
      ]
     },
     "execution_count": 16,
     "metadata": {},
     "output_type": "execute_result"
    }
   ],
   "source": [
    "PolynomialFeatures(3).fit_transform(cancer.data).shape"
   ]
  },
  {
   "cell_type": "code",
   "execution_count": 17,
   "metadata": {
    "execution": {
     "iopub.execute_input": "2020-07-20T18:14:45.474074Z",
     "iopub.status.busy": "2020-07-20T18:14:45.473415Z",
     "iopub.status.idle": "2020-07-20T18:14:45.772761Z",
     "shell.execute_reply": "2020-07-20T18:14:45.770565Z",
     "shell.execute_reply.started": "2020-07-20T18:14:45.474004Z"
    }
   },
   "outputs": [
    {
     "data": {
      "text/plain": [
       "(569, 46376)"
      ]
     },
     "execution_count": 17,
     "metadata": {},
     "output_type": "execute_result"
    }
   ],
   "source": [
    "PolynomialFeatures(4).fit_transform(cancer.data).shape"
   ]
  },
  {
   "cell_type": "markdown",
   "metadata": {},
   "source": [
    "Working with 5k, let alone 50k, features is quite unwieldy.  Even 500 is questionable, especially given we only have about the same number of rows here.  But we look at features selection/elimination in the next lesson."
   ]
  },
  {
   "cell_type": "code",
   "execution_count": 18,
   "metadata": {
    "execution": {
     "iopub.execute_input": "2020-07-20T18:14:52.357159Z",
     "iopub.status.busy": "2020-07-20T18:14:52.356871Z",
     "iopub.status.idle": "2020-07-20T18:14:52.427394Z",
     "shell.execute_reply": "2020-07-20T18:14:52.425000Z",
     "shell.execute_reply.started": "2020-07-20T18:14:52.357128Z"
    }
   },
   "outputs": [],
   "source": [
    "from sklearn.ensemble import RandomForestClassifier\n",
    "rfc = RandomForestClassifier(max_depth=7, random_state=1)"
   ]
  },
  {
   "cell_type": "markdown",
   "metadata": {},
   "source": [
    "We can see that we get significant improvement with polynomial features.  Note that even simple models do \"pretty well\" with the most naive attempts.  Here it is more illustrative to look at how often a model is *wrong* than its accuracy to highlight differences."
   ]
  },
  {
   "cell_type": "code",
   "execution_count": 19,
   "metadata": {
    "execution": {
     "iopub.execute_input": "2020-07-20T18:15:04.238787Z",
     "iopub.status.busy": "2020-07-20T18:15:04.238529Z",
     "iopub.status.idle": "2020-07-20T18:15:04.515215Z",
     "shell.execute_reply": "2020-07-20T18:15:04.514489Z",
     "shell.execute_reply.started": "2020-07-20T18:15:04.238762Z"
    }
   },
   "outputs": [
    {
     "name": "stdout",
     "output_type": "stream",
     "text": [
      "Error rate: 3.50%\n"
     ]
    }
   ],
   "source": [
    "# Scale the engineered features (makes little difference for this model, but is good practice)\n",
    "X_train, X_test, y_train, y_test = train_test_split(\n",
    "    cancer.data, cancer.target, random_state=42)\n",
    "\n",
    "acc = rfc.fit(X_train, y_train).score(X_test, y_test)\n",
    "print(f\"Error rate: {(1-acc)*100:.2f}%\")"
   ]
  },
  {
   "cell_type": "code",
   "execution_count": 20,
   "metadata": {
    "execution": {
     "iopub.execute_input": "2020-07-20T18:15:08.882897Z",
     "iopub.status.busy": "2020-07-20T18:15:08.882576Z",
     "iopub.status.idle": "2020-07-20T18:15:09.311599Z",
     "shell.execute_reply": "2020-07-20T18:15:09.310756Z",
     "shell.execute_reply.started": "2020-07-20T18:15:08.882864Z"
    }
   },
   "outputs": [
    {
     "name": "stdout",
     "output_type": "stream",
     "text": [
      "Error rate: 2.10%\n"
     ]
    }
   ],
   "source": [
    "# Scale the engineered features (makes little difference for this model, but is good practice)\n",
    "from sklearn.preprocessing import MinMaxScaler\n",
    "X_poly_scaled = MinMaxScaler().fit_transform(X_poly)\n",
    "\n",
    "X_train, X_test, y_train, y_test = train_test_split(\n",
    "    X_poly_scaled, cancer.target, random_state=42)\n",
    "\n",
    "acc = rfc.fit(X_train, y_train).score(X_test, y_test)\n",
    "print(f\"Error rate: {(1-acc)*100:.2f}%\")"
   ]
  },
  {
   "cell_type": "markdown",
   "metadata": {},
   "source": [
    "## One-Hot Encoding\n",
    "\n",
    "We have looked in previous lessons at the need to encode categorical values in **one-hot encoding**.  That is, we might have one feature with a number of class values encoded in it.  For many models, this is either better quality—or simply required for the code to operate—than trying to use the class labels.  In some cases, integer values might work algorithmically, but will distort the training by being interpreted in a quantitative or ordinal way.\n",
    "\n",
    "The interfaces provided by scikit-learn are servicable, but somewhat awkward.  `sklearn.preprocessing.LabelBinarizer` does almost what you want in some cases, but doesn't expose the clearest API.  The same can be said of `sklearn.preprocessing.OneHotEncoder` and `sklearn.preprocessing.LabelEncoder` and a couple others.  I simply recommend using `pandas.get_dummies()` in place of these others.  The result will be the same, in any case.\n",
    "\n",
    "Let us look at a small toy example with catgorical data."
   ]
  },
  {
   "cell_type": "code",
   "execution_count": 21,
   "metadata": {
    "execution": {
     "iopub.execute_input": "2020-07-20T18:15:35.260964Z",
     "iopub.status.busy": "2020-07-20T18:15:35.260360Z",
     "iopub.status.idle": "2020-07-20T18:15:35.299749Z",
     "shell.execute_reply": "2020-07-20T18:15:35.291532Z",
     "shell.execute_reply.started": "2020-07-20T18:15:35.260876Z"
    }
   },
   "outputs": [
    {
     "data": {
      "text/html": [
       "<div>\n",
       "<style scoped>\n",
       "    .dataframe tbody tr th:only-of-type {\n",
       "        vertical-align: middle;\n",
       "    }\n",
       "\n",
       "    .dataframe tbody tr th {\n",
       "        vertical-align: top;\n",
       "    }\n",
       "\n",
       "    .dataframe thead th {\n",
       "        text-align: right;\n",
       "    }\n",
       "</style>\n",
       "<table border=\"1\" class=\"dataframe\">\n",
       "  <thead>\n",
       "    <tr style=\"text-align: right;\">\n",
       "      <th></th>\n",
       "      <th>species</th>\n",
       "      <th>sex</th>\n",
       "    </tr>\n",
       "  </thead>\n",
       "  <tbody>\n",
       "    <tr>\n",
       "      <th>0</th>\n",
       "      <td>cat</td>\n",
       "      <td>M</td>\n",
       "    </tr>\n",
       "    <tr>\n",
       "      <th>1</th>\n",
       "      <td>dog</td>\n",
       "      <td>F</td>\n",
       "    </tr>\n",
       "    <tr>\n",
       "      <th>2</th>\n",
       "      <td>fish</td>\n",
       "      <td>M</td>\n",
       "    </tr>\n",
       "    <tr>\n",
       "      <th>3</th>\n",
       "      <td>dog</td>\n",
       "      <td>M</td>\n",
       "    </tr>\n",
       "    <tr>\n",
       "      <th>4</th>\n",
       "      <td>dog</td>\n",
       "      <td>F</td>\n",
       "    </tr>\n",
       "    <tr>\n",
       "      <th>5</th>\n",
       "      <td>cat</td>\n",
       "      <td>M</td>\n",
       "    </tr>\n",
       "    <tr>\n",
       "      <th>6</th>\n",
       "      <td>fish</td>\n",
       "      <td>M</td>\n",
       "    </tr>\n",
       "    <tr>\n",
       "      <th>7</th>\n",
       "      <td>fish</td>\n",
       "      <td>F</td>\n",
       "    </tr>\n",
       "  </tbody>\n",
       "</table>\n",
       "</div>"
      ],
      "text/plain": [
       "  species sex\n",
       "0     cat   M\n",
       "1     dog   F\n",
       "2    fish   M\n",
       "3     dog   M\n",
       "4     dog   F\n",
       "5     cat   M\n",
       "6    fish   M\n",
       "7    fish   F"
      ]
     },
     "execution_count": 21,
     "metadata": {},
     "output_type": "execute_result"
    }
   ],
   "source": [
    "pets = pd.read_csv('data/pets.csv')\n",
    "pets"
   ]
  },
  {
   "cell_type": "code",
   "execution_count": 22,
   "metadata": {
    "execution": {
     "iopub.execute_input": "2020-07-20T18:15:39.714020Z",
     "iopub.status.busy": "2020-07-20T18:15:39.712928Z",
     "iopub.status.idle": "2020-07-20T18:15:39.751902Z",
     "shell.execute_reply": "2020-07-20T18:15:39.747630Z",
     "shell.execute_reply.started": "2020-07-20T18:15:39.713971Z"
    }
   },
   "outputs": [
    {
     "data": {
      "text/html": [
       "<div>\n",
       "<style scoped>\n",
       "    .dataframe tbody tr th:only-of-type {\n",
       "        vertical-align: middle;\n",
       "    }\n",
       "\n",
       "    .dataframe tbody tr th {\n",
       "        vertical-align: top;\n",
       "    }\n",
       "\n",
       "    .dataframe thead th {\n",
       "        text-align: right;\n",
       "    }\n",
       "</style>\n",
       "<table border=\"1\" class=\"dataframe\">\n",
       "  <thead>\n",
       "    <tr style=\"text-align: right;\">\n",
       "      <th></th>\n",
       "      <th>species_cat</th>\n",
       "      <th>species_dog</th>\n",
       "      <th>species_fish</th>\n",
       "      <th>sex_F</th>\n",
       "      <th>sex_M</th>\n",
       "    </tr>\n",
       "  </thead>\n",
       "  <tbody>\n",
       "    <tr>\n",
       "      <th>0</th>\n",
       "      <td>1</td>\n",
       "      <td>0</td>\n",
       "      <td>0</td>\n",
       "      <td>0</td>\n",
       "      <td>1</td>\n",
       "    </tr>\n",
       "    <tr>\n",
       "      <th>1</th>\n",
       "      <td>0</td>\n",
       "      <td>1</td>\n",
       "      <td>0</td>\n",
       "      <td>1</td>\n",
       "      <td>0</td>\n",
       "    </tr>\n",
       "    <tr>\n",
       "      <th>2</th>\n",
       "      <td>0</td>\n",
       "      <td>0</td>\n",
       "      <td>1</td>\n",
       "      <td>0</td>\n",
       "      <td>1</td>\n",
       "    </tr>\n",
       "    <tr>\n",
       "      <th>3</th>\n",
       "      <td>0</td>\n",
       "      <td>1</td>\n",
       "      <td>0</td>\n",
       "      <td>0</td>\n",
       "      <td>1</td>\n",
       "    </tr>\n",
       "    <tr>\n",
       "      <th>4</th>\n",
       "      <td>0</td>\n",
       "      <td>1</td>\n",
       "      <td>0</td>\n",
       "      <td>1</td>\n",
       "      <td>0</td>\n",
       "    </tr>\n",
       "    <tr>\n",
       "      <th>5</th>\n",
       "      <td>1</td>\n",
       "      <td>0</td>\n",
       "      <td>0</td>\n",
       "      <td>0</td>\n",
       "      <td>1</td>\n",
       "    </tr>\n",
       "    <tr>\n",
       "      <th>6</th>\n",
       "      <td>0</td>\n",
       "      <td>0</td>\n",
       "      <td>1</td>\n",
       "      <td>0</td>\n",
       "      <td>1</td>\n",
       "    </tr>\n",
       "    <tr>\n",
       "      <th>7</th>\n",
       "      <td>0</td>\n",
       "      <td>0</td>\n",
       "      <td>1</td>\n",
       "      <td>1</td>\n",
       "      <td>0</td>\n",
       "    </tr>\n",
       "  </tbody>\n",
       "</table>\n",
       "</div>"
      ],
      "text/plain": [
       "   species_cat  species_dog  species_fish  sex_F  sex_M\n",
       "0            1            0             0      0      1\n",
       "1            0            1             0      1      0\n",
       "2            0            0             1      0      1\n",
       "3            0            1             0      0      1\n",
       "4            0            1             0      1      0\n",
       "5            1            0             0      0      1\n",
       "6            0            0             1      0      1\n",
       "7            0            0             1      1      0"
      ]
     },
     "execution_count": 22,
     "metadata": {},
     "output_type": "execute_result"
    }
   ],
   "source": [
    "pd.get_dummies(pets)"
   ]
  },
  {
   "cell_type": "markdown",
   "metadata": {},
   "source": [
    "Performing the same encoding using the native scikit-learn classes and methods is a little bit more work.  `OneHotEncoder` chooses somewhat different column names that are a bit less descriptive.  There is not a straightforward way to specify the desciptive parts of the original column names rather than `x0`, `x1` etc.  Also, if you have a mixture of categorical and quantitative columns, specifying that is cumbersome compared to Pandas simply auto-detecting it for you.\n",
    "\n",
    "On the other hand, if you do not wish to use Pandas, everything in scikit-learn happily works with the underlying NumPy arrays alone."
   ]
  },
  {
   "cell_type": "code",
   "execution_count": 23,
   "metadata": {
    "execution": {
     "iopub.execute_input": "2020-07-20T18:21:42.657566Z",
     "iopub.status.busy": "2020-07-20T18:21:42.657277Z",
     "iopub.status.idle": "2020-07-20T18:21:42.701196Z",
     "shell.execute_reply": "2020-07-20T18:21:42.696379Z",
     "shell.execute_reply.started": "2020-07-20T18:21:42.657535Z"
    }
   },
   "outputs": [
    {
     "data": {
      "text/html": [
       "<div>\n",
       "<style scoped>\n",
       "    .dataframe tbody tr th:only-of-type {\n",
       "        vertical-align: middle;\n",
       "    }\n",
       "\n",
       "    .dataframe tbody tr th {\n",
       "        vertical-align: top;\n",
       "    }\n",
       "\n",
       "    .dataframe thead th {\n",
       "        text-align: right;\n",
       "    }\n",
       "</style>\n",
       "<table border=\"1\" class=\"dataframe\">\n",
       "  <thead>\n",
       "    <tr style=\"text-align: right;\">\n",
       "      <th></th>\n",
       "      <th>x0_cat</th>\n",
       "      <th>x0_dog</th>\n",
       "      <th>x0_fish</th>\n",
       "      <th>x1_F</th>\n",
       "      <th>x1_M</th>\n",
       "    </tr>\n",
       "  </thead>\n",
       "  <tbody>\n",
       "    <tr>\n",
       "      <th>0</th>\n",
       "      <td>1.0</td>\n",
       "      <td>0.0</td>\n",
       "      <td>0.0</td>\n",
       "      <td>0.0</td>\n",
       "      <td>1.0</td>\n",
       "    </tr>\n",
       "    <tr>\n",
       "      <th>1</th>\n",
       "      <td>0.0</td>\n",
       "      <td>1.0</td>\n",
       "      <td>0.0</td>\n",
       "      <td>1.0</td>\n",
       "      <td>0.0</td>\n",
       "    </tr>\n",
       "    <tr>\n",
       "      <th>2</th>\n",
       "      <td>0.0</td>\n",
       "      <td>0.0</td>\n",
       "      <td>1.0</td>\n",
       "      <td>0.0</td>\n",
       "      <td>1.0</td>\n",
       "    </tr>\n",
       "    <tr>\n",
       "      <th>3</th>\n",
       "      <td>0.0</td>\n",
       "      <td>1.0</td>\n",
       "      <td>0.0</td>\n",
       "      <td>0.0</td>\n",
       "      <td>1.0</td>\n",
       "    </tr>\n",
       "    <tr>\n",
       "      <th>4</th>\n",
       "      <td>0.0</td>\n",
       "      <td>1.0</td>\n",
       "      <td>0.0</td>\n",
       "      <td>1.0</td>\n",
       "      <td>0.0</td>\n",
       "    </tr>\n",
       "    <tr>\n",
       "      <th>5</th>\n",
       "      <td>1.0</td>\n",
       "      <td>0.0</td>\n",
       "      <td>0.0</td>\n",
       "      <td>0.0</td>\n",
       "      <td>1.0</td>\n",
       "    </tr>\n",
       "    <tr>\n",
       "      <th>6</th>\n",
       "      <td>0.0</td>\n",
       "      <td>0.0</td>\n",
       "      <td>1.0</td>\n",
       "      <td>0.0</td>\n",
       "      <td>1.0</td>\n",
       "    </tr>\n",
       "    <tr>\n",
       "      <th>7</th>\n",
       "      <td>0.0</td>\n",
       "      <td>0.0</td>\n",
       "      <td>1.0</td>\n",
       "      <td>1.0</td>\n",
       "      <td>0.0</td>\n",
       "    </tr>\n",
       "  </tbody>\n",
       "</table>\n",
       "</div>"
      ],
      "text/plain": [
       "   x0_cat  x0_dog  x0_fish  x1_F  x1_M\n",
       "0     1.0     0.0      0.0   0.0   1.0\n",
       "1     0.0     1.0      0.0   1.0   0.0\n",
       "2     0.0     0.0      1.0   0.0   1.0\n",
       "3     0.0     1.0      0.0   0.0   1.0\n",
       "4     0.0     1.0      0.0   1.0   0.0\n",
       "5     1.0     0.0      0.0   0.0   1.0\n",
       "6     0.0     0.0      1.0   0.0   1.0\n",
       "7     0.0     0.0      1.0   1.0   0.0"
      ]
     },
     "execution_count": 23,
     "metadata": {},
     "output_type": "execute_result"
    }
   ],
   "source": [
    "from sklearn.preprocessing import OneHotEncoder\n",
    "enc = OneHotEncoder()\n",
    "enc.fit(pets)\n",
    "one_hot_pets = enc.transform(pets)\n",
    "columns = enc.get_feature_names()\n",
    "pd.DataFrame(one_hot_pets.toarray(), columns=columns)"
   ]
  },
  {
   "cell_type": "markdown",
   "metadata": {},
   "source": [
    "# Binning "
   ]
  },
  {
   "cell_type": "markdown",
   "metadata": {},
   "source": [
    "## Binary values\n",
    "\n",
    "In the very first example in this course, we manually binarized a target.  We decided that one of those 1-10 scale ratings would have a cut-off point for \"success\" versus \"failure.\"  That sort of thing is perfectly easy to construct using Pandas predicate filters (or similarly in NumPy).  But `sklearn.preprocessing.Binarizer` is available to accomplish the same end."
   ]
  },
  {
   "cell_type": "code",
   "execution_count": 24,
   "metadata": {
    "execution": {
     "iopub.execute_input": "2020-07-20T18:22:07.706117Z",
     "iopub.status.busy": "2020-07-20T18:22:07.705814Z",
     "iopub.status.idle": "2020-07-20T18:22:07.735678Z",
     "shell.execute_reply": "2020-07-20T18:22:07.734066Z",
     "shell.execute_reply.started": "2020-07-20T18:22:07.706085Z"
    }
   },
   "outputs": [
    {
     "data": {
      "text/html": [
       "<div>\n",
       "<style scoped>\n",
       "    .dataframe tbody tr th:only-of-type {\n",
       "        vertical-align: middle;\n",
       "    }\n",
       "\n",
       "    .dataframe tbody tr th {\n",
       "        vertical-align: top;\n",
       "    }\n",
       "\n",
       "    .dataframe thead th {\n",
       "        text-align: right;\n",
       "    }\n",
       "</style>\n",
       "<table border=\"1\" class=\"dataframe\">\n",
       "  <thead>\n",
       "    <tr style=\"text-align: right;\">\n",
       "      <th></th>\n",
       "      <th>How successful has this tutorial been so far?</th>\n",
       "    </tr>\n",
       "  </thead>\n",
       "  <tbody>\n",
       "    <tr>\n",
       "      <th>0</th>\n",
       "      <td>8</td>\n",
       "    </tr>\n",
       "    <tr>\n",
       "      <th>1</th>\n",
       "      <td>9</td>\n",
       "    </tr>\n",
       "    <tr>\n",
       "      <th>2</th>\n",
       "      <td>10</td>\n",
       "    </tr>\n",
       "    <tr>\n",
       "      <th>3</th>\n",
       "      <td>6</td>\n",
       "    </tr>\n",
       "    <tr>\n",
       "      <th>4</th>\n",
       "      <td>10</td>\n",
       "    </tr>\n",
       "  </tbody>\n",
       "</table>\n",
       "</div>"
      ],
      "text/plain": [
       "   How successful has this tutorial been so far?\n",
       "0                                              8\n",
       "1                                              9\n",
       "2                                             10\n",
       "3                                              6\n",
       "4                                             10"
      ]
     },
     "execution_count": 24,
     "metadata": {},
     "output_type": "execute_result"
    }
   ],
   "source": [
    "data = pd.read_csv('data/Learning about Humans learning ML.csv')\n",
    "target = data[['How successful has this tutorial been so far?']]\n",
    "target.head()"
   ]
  },
  {
   "cell_type": "code",
   "execution_count": 29,
   "metadata": {
    "execution": {
     "iopub.execute_input": "2020-07-20T18:23:54.211391Z",
     "iopub.status.busy": "2020-07-20T18:23:54.210960Z",
     "iopub.status.idle": "2020-07-20T18:23:54.238164Z",
     "shell.execute_reply": "2020-07-20T18:23:54.236064Z",
     "shell.execute_reply.started": "2020-07-20T18:23:54.211350Z"
    }
   },
   "outputs": [
    {
     "data": {
      "text/html": [
       "<div>\n",
       "<style scoped>\n",
       "    .dataframe tbody tr th:only-of-type {\n",
       "        vertical-align: middle;\n",
       "    }\n",
       "\n",
       "    .dataframe tbody tr th {\n",
       "        vertical-align: top;\n",
       "    }\n",
       "\n",
       "    .dataframe thead th {\n",
       "        text-align: right;\n",
       "    }\n",
       "</style>\n",
       "<table border=\"1\" class=\"dataframe\">\n",
       "  <thead>\n",
       "    <tr style=\"text-align: right;\">\n",
       "      <th></th>\n",
       "      <th>How successful has this tutorial been so far?</th>\n",
       "    </tr>\n",
       "  </thead>\n",
       "  <tbody>\n",
       "    <tr>\n",
       "      <th>0</th>\n",
       "      <td>True</td>\n",
       "    </tr>\n",
       "    <tr>\n",
       "      <th>1</th>\n",
       "      <td>True</td>\n",
       "    </tr>\n",
       "    <tr>\n",
       "      <th>2</th>\n",
       "      <td>True</td>\n",
       "    </tr>\n",
       "    <tr>\n",
       "      <th>3</th>\n",
       "      <td>False</td>\n",
       "    </tr>\n",
       "    <tr>\n",
       "      <th>4</th>\n",
       "      <td>True</td>\n",
       "    </tr>\n",
       "  </tbody>\n",
       "</table>\n",
       "</div>"
      ],
      "text/plain": [
       "   How successful has this tutorial been so far?\n",
       "0                                           True\n",
       "1                                           True\n",
       "2                                           True\n",
       "3                                          False\n",
       "4                                           True"
      ]
     },
     "execution_count": 29,
     "metadata": {},
     "output_type": "execute_result"
    }
   ],
   "source": [
    "(target >=8).head()"
   ]
  },
  {
   "cell_type": "code",
   "execution_count": 34,
   "metadata": {
    "execution": {
     "iopub.execute_input": "2020-07-20T18:25:18.076012Z",
     "iopub.status.busy": "2020-07-20T18:25:18.075734Z",
     "iopub.status.idle": "2020-07-20T18:25:18.111586Z",
     "shell.execute_reply": "2020-07-20T18:25:18.102713Z",
     "shell.execute_reply.started": "2020-07-20T18:25:18.075981Z"
    }
   },
   "outputs": [
    {
     "data": {
      "text/plain": [
       "array([[1],\n",
       "       [1],\n",
       "       [1],\n",
       "       [0],\n",
       "       [1]])"
      ]
     },
     "execution_count": 34,
     "metadata": {},
     "output_type": "execute_result"
    }
   ],
   "source": [
    "from sklearn.preprocessing import Binarizer\n",
    "binary = Binarizer(threshold=7.5).fit_transform(target)\n",
    "binary[:5]"
   ]
  },
  {
   "cell_type": "code",
   "execution_count": 35,
   "metadata": {
    "execution": {
     "iopub.execute_input": "2020-07-20T18:25:22.509968Z",
     "iopub.status.busy": "2020-07-20T18:25:22.509650Z",
     "iopub.status.idle": "2020-07-20T18:25:22.543667Z",
     "shell.execute_reply": "2020-07-20T18:25:22.541800Z",
     "shell.execute_reply.started": "2020-07-20T18:25:22.509919Z"
    }
   },
   "outputs": [
    {
     "data": {
      "text/html": [
       "<div>\n",
       "<style scoped>\n",
       "    .dataframe tbody tr th:only-of-type {\n",
       "        vertical-align: middle;\n",
       "    }\n",
       "\n",
       "    .dataframe tbody tr th {\n",
       "        vertical-align: top;\n",
       "    }\n",
       "\n",
       "    .dataframe thead th {\n",
       "        text-align: right;\n",
       "    }\n",
       "</style>\n",
       "<table border=\"1\" class=\"dataframe\">\n",
       "  <thead>\n",
       "    <tr style=\"text-align: right;\">\n",
       "      <th></th>\n",
       "      <th>0</th>\n",
       "    </tr>\n",
       "  </thead>\n",
       "  <tbody>\n",
       "    <tr>\n",
       "      <th>count</th>\n",
       "      <td>116.000000</td>\n",
       "    </tr>\n",
       "    <tr>\n",
       "      <th>mean</th>\n",
       "      <td>0.517241</td>\n",
       "    </tr>\n",
       "    <tr>\n",
       "      <th>std</th>\n",
       "      <td>0.501871</td>\n",
       "    </tr>\n",
       "    <tr>\n",
       "      <th>min</th>\n",
       "      <td>0.000000</td>\n",
       "    </tr>\n",
       "    <tr>\n",
       "      <th>25%</th>\n",
       "      <td>0.000000</td>\n",
       "    </tr>\n",
       "    <tr>\n",
       "      <th>50%</th>\n",
       "      <td>1.000000</td>\n",
       "    </tr>\n",
       "    <tr>\n",
       "      <th>75%</th>\n",
       "      <td>1.000000</td>\n",
       "    </tr>\n",
       "    <tr>\n",
       "      <th>max</th>\n",
       "      <td>1.000000</td>\n",
       "    </tr>\n",
       "  </tbody>\n",
       "</table>\n",
       "</div>"
      ],
      "text/plain": [
       "                0\n",
       "count  116.000000\n",
       "mean     0.517241\n",
       "std      0.501871\n",
       "min      0.000000\n",
       "25%      0.000000\n",
       "50%      1.000000\n",
       "75%      1.000000\n",
       "max      1.000000"
      ]
     },
     "execution_count": 35,
     "metadata": {},
     "output_type": "execute_result"
    }
   ],
   "source": [
    "pd.DataFrame(binary).describe()"
   ]
  },
  {
   "cell_type": "code",
   "execution_count": 36,
   "metadata": {
    "execution": {
     "iopub.execute_input": "2020-07-20T18:25:24.425341Z",
     "iopub.status.busy": "2020-07-20T18:25:24.423980Z",
     "iopub.status.idle": "2020-07-20T18:25:24.803303Z",
     "shell.execute_reply": "2020-07-20T18:25:24.802269Z",
     "shell.execute_reply.started": "2020-07-20T18:25:24.425213Z"
    }
   },
   "outputs": [
    {
     "data": {
      "image/png": "[encoded data removed]",
      "text/plain": [
       "<Figure size 432x288 with 1 Axes>"
      ]
     },
     "metadata": {
      "needs_background": "light"
     },
     "output_type": "display_data"
    }
   ],
   "source": [
    "pd.DataFrame(binary).plot();"
   ]
  },
  {
   "cell_type": "markdown",
   "metadata": {},
   "source": [
    "## Binning to categorical values\n",
    "\n",
    "A move general form of quantizing ordinal or continuous values can use the `KBinsDiscretizer` class.  The idea here is that we want to divide a range into separate values using cuts.  The class provides a variety of ways of deciding these cuts.  For example, perhaps my tutorial was not simply \"successful\" or \"unsuccessful\", but rather \"terrrible\", \"mediocre\", \"good\", or \"great\" according to different audience members.\n",
    "\n",
    "Using `n_bins=2` simply binarizes."
   ]
  },
  {
   "cell_type": "code",
   "execution_count": 37,
   "metadata": {
    "execution": {
     "iopub.execute_input": "2020-07-20T18:28:36.070402Z",
     "iopub.status.busy": "2020-07-20T18:28:36.069432Z",
     "iopub.status.idle": "2020-07-20T18:28:36.086856Z",
     "shell.execute_reply": "2020-07-20T18:28:36.079970Z",
     "shell.execute_reply.started": "2020-07-20T18:28:36.070316Z"
    }
   },
   "outputs": [
    {
     "data": {
      "text/plain": [
       "array([[1.],\n",
       "       [1.],\n",
       "       [1.],\n",
       "       [0.],\n",
       "       [1.]])"
      ]
     },
     "execution_count": 37,
     "metadata": {},
     "output_type": "execute_result"
    }
   ],
   "source": [
    "from sklearn.preprocessing import KBinsDiscretizer\n",
    "binary = KBinsDiscretizer(n_bins=2, encode='ordinal').fit_transform(target)\n",
    "binary[:5]"
   ]
  },
  {
   "cell_type": "markdown",
   "metadata": {},
   "source": [
    "More bins allow us to illustrate some additional options.  The ordinal options will assign various integers, counting up from zero, for the thresholded values."
   ]
  },
  {
   "cell_type": "code",
   "execution_count": 38,
   "metadata": {
    "execution": {
     "iopub.execute_input": "2020-07-20T18:28:44.988902Z",
     "iopub.status.busy": "2020-07-20T18:28:44.988550Z",
     "iopub.status.idle": "2020-07-20T18:28:45.013846Z",
     "shell.execute_reply": "2020-07-20T18:28:45.011359Z",
     "shell.execute_reply.started": "2020-07-20T18:28:44.988867Z"
    }
   },
   "outputs": [
    {
     "data": {
      "text/plain": [
       "array([[2.],\n",
       "       [3.],\n",
       "       [3.],\n",
       "       [1.],\n",
       "       [3.],\n",
       "       [3.],\n",
       "       [0.],\n",
       "       [0.]])"
      ]
     },
     "execution_count": 38,
     "metadata": {},
     "output_type": "execute_result"
    }
   ],
   "source": [
    "bins = KBinsDiscretizer(n_bins=4, encode='ordinal').fit_transform(target)\n",
    "bins[:8]"
   ]
  },
  {
   "cell_type": "markdown",
   "metadata": {},
   "source": [
    "Plain `onehot` creates a more compact sparse-matrix representation than `onehot-dense`.  For millions of rows of data this matters, not for hundreds."
   ]
  },
  {
   "cell_type": "code",
   "execution_count": 39,
   "metadata": {
    "execution": {
     "iopub.execute_input": "2020-07-20T18:29:03.331406Z",
     "iopub.status.busy": "2020-07-20T18:29:03.329580Z",
     "iopub.status.idle": "2020-07-20T18:29:03.359891Z",
     "shell.execute_reply": "2020-07-20T18:29:03.358031Z",
     "shell.execute_reply.started": "2020-07-20T18:29:03.331337Z"
    }
   },
   "outputs": [
    {
     "data": {
      "text/plain": [
       "array([[0., 0., 1., 0.],\n",
       "       [0., 0., 0., 1.],\n",
       "       [0., 0., 0., 1.],\n",
       "       [0., 1., 0., 0.],\n",
       "       [0., 0., 0., 1.],\n",
       "       [0., 0., 0., 1.],\n",
       "       [1., 0., 0., 0.],\n",
       "       [1., 0., 0., 0.]])"
      ]
     },
     "execution_count": 39,
     "metadata": {},
     "output_type": "execute_result"
    }
   ],
   "source": [
    "cuts = KBinsDiscretizer(n_bins=4, encode='onehot-dense')\n",
    "bins = cuts.fit_transform(target)\n",
    "bins[:8]"
   ]
  },
  {
   "cell_type": "markdown",
   "metadata": {},
   "source": [
    "As was mentioned when the example was first presented, 1-10 ratings tend to clump together near the top.  The default strategy is `quantile` which puts as equal a number into each bin as possible. Since we started with a limited number of ordinal values, this example is fairly \"lumpy.\"  An example with continuous values would typically be able to divide more evenly."
   ]
  },
  {
   "cell_type": "code",
   "execution_count": 40,
   "metadata": {
    "execution": {
     "iopub.execute_input": "2020-07-20T18:29:25.506364Z",
     "iopub.status.busy": "2020-07-20T18:29:25.505670Z",
     "iopub.status.idle": "2020-07-20T18:29:25.523515Z",
     "shell.execute_reply": "2020-07-20T18:29:25.519373Z",
     "shell.execute_reply.started": "2020-07-20T18:29:25.506275Z"
    }
   },
   "outputs": [
    {
     "name": "stdout",
     "output_type": "stream",
     "text": [
      "Cut-offs: [ 1.  5.  8.  9. 10.]\n",
      "Count per bin: [20. 36. 30. 30.]\n"
     ]
    }
   ],
   "source": [
    "print(\"Cut-offs:\", cuts.bin_edges_[0])\n",
    "print(\"Count per bin:\", bins.sum(axis=0))"
   ]
  },
  {
   "cell_type": "markdown",
   "metadata": {},
   "source": [
    "We also have an option to use a `uniform` strategy which makes numeric ranges equal at the cost of a more uneven bin size."
   ]
  },
  {
   "cell_type": "code",
   "execution_count": 41,
   "metadata": {
    "execution": {
     "iopub.execute_input": "2020-07-20T18:29:35.137291Z",
     "iopub.status.busy": "2020-07-20T18:29:35.136799Z",
     "iopub.status.idle": "2020-07-20T18:29:35.158133Z",
     "shell.execute_reply": "2020-07-20T18:29:35.154962Z",
     "shell.execute_reply.started": "2020-07-20T18:29:35.137252Z"
    }
   },
   "outputs": [
    {
     "data": {
      "text/plain": [
       "<116x4 sparse matrix of type '<class 'numpy.float64'>'\n",
       "\twith 116 stored elements in Compressed Sparse Row format>"
      ]
     },
     "execution_count": 41,
     "metadata": {},
     "output_type": "execute_result"
    }
   ],
   "source": [
    "cuts = KBinsDiscretizer(n_bins=4, encode='onehot', strategy='uniform')\n",
    "bins = cuts.fit_transform(target)\n",
    "bins"
   ]
  },
  {
   "cell_type": "code",
   "execution_count": 42,
   "metadata": {
    "execution": {
     "iopub.execute_input": "2020-07-20T18:29:36.942799Z",
     "iopub.status.busy": "2020-07-20T18:29:36.942029Z",
     "iopub.status.idle": "2020-07-20T18:29:36.963684Z",
     "shell.execute_reply": "2020-07-20T18:29:36.961892Z",
     "shell.execute_reply.started": "2020-07-20T18:29:36.942751Z"
    }
   },
   "outputs": [
    {
     "name": "stdout",
     "output_type": "stream",
     "text": [
      "Cut-offs: [ 1.    3.25  5.5   7.75 10.  ]\n",
      "Count per bin: [[10. 20. 26. 60.]]\n"
     ]
    }
   ],
   "source": [
    "print(\"Cut-offs:\", cuts.bin_edges_[0])\n",
    "print(\"Count per bin:\", bins.sum(axis=0))"
   ]
  },
  {
   "cell_type": "markdown",
   "metadata": {},
   "source": [
    "## Next lesson\n",
    "\n",
    "**Feature Selection**: In this lesson we looked at serveral ways of expanding dimensionality, and creating *synthetic features* (or synthetic targets, sometimes).  Expansion is typically the first step which is followed by selection; i.e. it is time to discard some of those engineered features that prove of little value.\n",
    "\n",
    "<a href=\"FeatureSelection.ipynb\"><img src=\"img/open-notebook.png\" align=\"left\"/></a>"
   ]
  },
  {
   "cell_type": "code",
   "execution_count": null,
   "metadata": {},
   "outputs": [],
   "source": []
  }
 ],
 "metadata": {
  "kernelspec": {
   "display_name": "Python 3",
   "language": "python",
   "name": "python3"
  },
  "language_info": {
   "codemirror_mode": {
    "name": "ipython",
    "version": 3
   },
   "file_extension": ".py",
   "mimetype": "text/x-python",
   "name": "python",
   "nbconvert_exporter": "python",
   "pygments_lexer": "ipython3",
   "version": "3.7.7"
  }
 },
 "nbformat": 4,
 "nbformat_minor": 4
}
